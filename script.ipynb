{
 "cells": [
  {
   "cell_type": "code",
   "execution_count": 3,
   "metadata": {},
   "outputs": [],
   "source": [
    "# Dataset contains uber pickups in NYC from april to september 2014 and january to june 2015\n",
    "#Link:\n",
    "# easyjet.com/asp/EN/members/changeflightoptions.asp\n",
    "\n",
    "# Base ->  TLC licensed business that dispatches TLC licensed for-hire vehicles\n",
    "\n",
    "# Files we have\n",
    "\n",
    "#   1) uber-raw-data-Month14 -> 6 files (1 per month) containing the following information:\n",
    "\n",
    "#      Header\t        Definition\n",
    "#   Date/Time\t    The date and time of the Uber pickup\n",
    "#   Lat\t            The latitude of the Uber pickup\n",
    "#   Lon\t            The longitude of the Uber pickup\n",
    "#   Base\t        The TLC base company code affiliated with the Uber pickup\n",
    "\n",
    "\n",
    "#   2) uber-raw-data-janjune-15 contains the following information: \n",
    "\n",
    "#      Header\t                Definition\n",
    "# Dispatching_base_num\t    The TLC base company code of the base that dispatched the Uber\n",
    "# Pickup_date\t            The date and time of the Uber pickup\n",
    "# Affiliated_base_num\t    The TLC base company code affiliated with the Uber pickup\n",
    "# locationID\t            The pickup location ID affiliated with the Uber pickup\n",
    "\n",
    "# The Base codes are: \n",
    "# Base Code\t  Base Name\n",
    "# B02512\t    Unter\n",
    "# B02598\t    Hinter\n",
    "# B02617\t    Weiter\n",
    "# B02682\t    Schmecken\n",
    "# B02764\t    Danach-NY\n",
    "# B02765\t    Grun\n",
    "# B02835\t    Dreist\n",
    "# B02836\t    Drinnen\n",
    "\n",
    "#   3) Uber-jan-feb-FOIL contains the following information: \n",
    "# dispatching_base_number      date     active_vehicles        trips\n",
    "# B02512                     1/1/2015        190                1132\n",
    "# B02765                     1/1/2015        225                1765\n",
    "\n",
    "\n",
    "# Ha mais ficheiros de Taxis e outras TLCs.\n",
    "\n",
    "# Vou dividir agora 1 quadrado para cada coisa que deviamos fazer"
   ]
  },
  {
   "cell_type": "code",
   "execution_count": 1,
   "metadata": {},
   "outputs": [],
   "source": [
    "# Imports\n",
    "import pandas as pd\n",
    "import numpy as np\n"
   ]
  },
  {
   "cell_type": "code",
   "execution_count": 2,
   "metadata": {},
   "outputs": [],
   "source": [
    "# Reading dataset\n",
    "# Uncomment your path, don't rewrite on the reads\n",
    "pwd = '/home/pedro/workspace/UC/4ano/2semestre/SGD/project/sgd'\n",
    "#pwd = '/home/francisco/Desktop/College/Mestrado/1º Ano/2o Semestre/SGD/Assignment3'\n",
    "uber_april_14 = pd.read_csv(pwd + '/uber-tlc-foil-response-master/uber-trip-data/uber-raw-data-apr14.csv')\n",
    "uber_may_14 = pd.read_csv(pwd + '/uber-tlc-foil-response-master/uber-trip-data/uber-raw-data-may14.csv')\n",
    "uber_jun_14 = pd.read_csv(pwd + '/uber-tlc-foil-response-master/uber-trip-data/uber-raw-data-jun14.csv')\n",
    "uber_jul_14 = pd.read_csv(pwd + '/uber-tlc-foil-response-master/uber-trip-data/uber-raw-data-jul14.csv')\n",
    "uber_aug_14 = pd.read_csv(pwd + '/uber-tlc-foil-response-master/uber-trip-data/uber-raw-data-aug14.csv')\n",
    "uber_sep_14 = pd.read_csv(pwd + '/uber-tlc-foil-response-master/uber-trip-data/uber-raw-data-sep14.csv')"
   ]
  },
  {
   "cell_type": "code",
   "execution_count": 3,
   "metadata": {},
   "outputs": [],
   "source": [
    "# Merging all 6 months datasets\n",
    "\n",
    "uber_14 = pd.concat([uber_april_14, uber_may_14, uber_jun_14, uber_jul_14, uber_aug_14, uber_sep_14])"
   ]
  },
  {
   "cell_type": "code",
   "execution_count": 4,
   "metadata": {},
   "outputs": [],
   "source": [
    "uber_14['Date/Time'] = pd.to_datetime(uber_14['Date/Time'])\n",
    "\n",
    "uber_14['Month'] = uber_14['Date/Time'].dt.month\n",
    "uber_14['Day'] = uber_14['Date/Time'].dt.day\n",
    "uber_14['Hour'] = uber_14['Date/Time'].dt.hour\n",
    "uber_14['Week'] = uber_14['Date/Time'].dt.day_name()"
   ]
  },
  {
   "cell_type": "code",
   "execution_count": 71,
   "metadata": {},
   "outputs": [
    {
     "output_type": "execute_result",
     "data": {
      "text/plain": "           Date/Time     Lat     Lon    Base    Hour   Month     Day\nWeek                                                                \nFriday        741139  741139  741139  741139  741139  741139  741139\nMonday        541472  541472  541472  541472  541472  541472  541472\nSaturday      646114  646114  646114  646114  646114  646114  646114\nSunday        490180  490180  490180  490180  490180  490180  490180\nThursday      755145  755145  755145  755145  755145  755145  755145\nTuesday       663789  663789  663789  663789  663789  663789  663789\nWednesday     696488  696488  696488  696488  696488  696488  696488",
      "text/html": "<div>\n<style scoped>\n    .dataframe tbody tr th:only-of-type {\n        vertical-align: middle;\n    }\n\n    .dataframe tbody tr th {\n        vertical-align: top;\n    }\n\n    .dataframe thead th {\n        text-align: right;\n    }\n</style>\n<table border=\"1\" class=\"dataframe\">\n  <thead>\n    <tr style=\"text-align: right;\">\n      <th></th>\n      <th>Date/Time</th>\n      <th>Lat</th>\n      <th>Lon</th>\n      <th>Base</th>\n      <th>Hour</th>\n      <th>Month</th>\n      <th>Day</th>\n    </tr>\n    <tr>\n      <th>Week</th>\n      <th></th>\n      <th></th>\n      <th></th>\n      <th></th>\n      <th></th>\n      <th></th>\n      <th></th>\n    </tr>\n  </thead>\n  <tbody>\n    <tr>\n      <th>Friday</th>\n      <td>741139</td>\n      <td>741139</td>\n      <td>741139</td>\n      <td>741139</td>\n      <td>741139</td>\n      <td>741139</td>\n      <td>741139</td>\n    </tr>\n    <tr>\n      <th>Monday</th>\n      <td>541472</td>\n      <td>541472</td>\n      <td>541472</td>\n      <td>541472</td>\n      <td>541472</td>\n      <td>541472</td>\n      <td>541472</td>\n    </tr>\n    <tr>\n      <th>Saturday</th>\n      <td>646114</td>\n      <td>646114</td>\n      <td>646114</td>\n      <td>646114</td>\n      <td>646114</td>\n      <td>646114</td>\n      <td>646114</td>\n    </tr>\n    <tr>\n      <th>Sunday</th>\n      <td>490180</td>\n      <td>490180</td>\n      <td>490180</td>\n      <td>490180</td>\n      <td>490180</td>\n      <td>490180</td>\n      <td>490180</td>\n    </tr>\n    <tr>\n      <th>Thursday</th>\n      <td>755145</td>\n      <td>755145</td>\n      <td>755145</td>\n      <td>755145</td>\n      <td>755145</td>\n      <td>755145</td>\n      <td>755145</td>\n    </tr>\n    <tr>\n      <th>Tuesday</th>\n      <td>663789</td>\n      <td>663789</td>\n      <td>663789</td>\n      <td>663789</td>\n      <td>663789</td>\n      <td>663789</td>\n      <td>663789</td>\n    </tr>\n    <tr>\n      <th>Wednesday</th>\n      <td>696488</td>\n      <td>696488</td>\n      <td>696488</td>\n      <td>696488</td>\n      <td>696488</td>\n      <td>696488</td>\n      <td>696488</td>\n    </tr>\n  </tbody>\n</table>\n</div>"
     },
     "metadata": {},
     "execution_count": 71
    }
   ],
   "source": [
    "# Group by Days of week and count\n",
    "\n",
    "uber_14.groupby(uber_14['Week']).count()"
   ]
  },
  {
   "cell_type": "code",
   "execution_count": null,
   "metadata": {},
   "outputs": [],
   "source": [
    "# Group by Base and Count\n",
    "uber_14.groupby(uber_14['Base']).count()"
   ]
  },
  {
   "cell_type": "markdown",
   "metadata": {},
   "source": [
    "# Group by Hours of Day\n",
    "uber_14.groupby(uber_14['Hour']).count()"
   ]
  },
  {
   "cell_type": "markdown",
   "metadata": {},
   "source": [
    "#Group by Day-Month (Ammount of rides a day)\n",
    "uber_14.groupby([(uber_14['Month']), (uber_14['Day'])]).count()\n"
   ]
  },
  {
   "cell_type": "markdown",
   "metadata": {},
   "source": [
    "#Average ride per day\n",
    "\n",
    "avg_rides_per_day = uber_14.shape[0] / uber_14.groupby([(uber_14['Month']), (uber_14['Day'])]).size().shape[0]\n",
    "avg_rides_per_day\n",
    "\n",
    "\n",
    "# (Number of rides|Rows)\n",
    "# uber_14.shape[0]  \n",
    "\n",
    "# Number of Days\n",
    "# uber_14.groupby([(uber_14['Month']), (uber_14['Day'])]).size().shape[0]\n"
   ]
  },
  {
   "cell_type": "code",
   "execution_count": 1,
   "metadata": {},
   "outputs": [
    {
     "output_type": "error",
     "ename": "NameError",
     "evalue": "name 'uber_14' is not defined",
     "traceback": [
      "\u001b[0;31m---------------------------------------------------------------------------\u001b[0m",
      "\u001b[0;31mNameError\u001b[0m                                 Traceback (most recent call last)",
      "\u001b[0;32m<ipython-input-1-1be279a20df1>\u001b[0m in \u001b[0;36m<module>\u001b[0;34m\u001b[0m\n\u001b[1;32m      1\u001b[0m \u001b[0;31m#Average ride per week\u001b[0m\u001b[0;34m\u001b[0m\u001b[0;34m\u001b[0m\u001b[0;34m\u001b[0m\u001b[0m\n\u001b[1;32m      2\u001b[0m \u001b[0;34m\u001b[0m\u001b[0m\n\u001b[0;32m----> 3\u001b[0;31m \u001b[0mavg_rides_per_day\u001b[0m \u001b[0;34m=\u001b[0m \u001b[0muber_14\u001b[0m\u001b[0;34m.\u001b[0m\u001b[0mshape\u001b[0m\u001b[0;34m[\u001b[0m\u001b[0;36m0\u001b[0m\u001b[0;34m]\u001b[0m \u001b[0;34m/\u001b[0m \u001b[0muber_14\u001b[0m\u001b[0;34m.\u001b[0m\u001b[0mgroupby\u001b[0m\u001b[0;34m(\u001b[0m\u001b[0;34m[\u001b[0m\u001b[0;34m(\u001b[0m\u001b[0muber_14\u001b[0m\u001b[0;34m[\u001b[0m\u001b[0;34m'Month'\u001b[0m\u001b[0;34m]\u001b[0m\u001b[0;34m)\u001b[0m\u001b[0;34m,\u001b[0m \u001b[0;34m(\u001b[0m\u001b[0muber_14\u001b[0m\u001b[0;34m[\u001b[0m\u001b[0;34m'Week'\u001b[0m\u001b[0;34m]\u001b[0m\u001b[0;34m)\u001b[0m\u001b[0;34m]\u001b[0m\u001b[0;34m)\u001b[0m\u001b[0;34m.\u001b[0m\u001b[0msize\u001b[0m\u001b[0;34m(\u001b[0m\u001b[0;34m)\u001b[0m\u001b[0;34m.\u001b[0m\u001b[0mshape\u001b[0m\u001b[0;34m[\u001b[0m\u001b[0;36m0\u001b[0m\u001b[0;34m]\u001b[0m\u001b[0;34m\u001b[0m\u001b[0;34m\u001b[0m\u001b[0m\n\u001b[0m\u001b[1;32m      4\u001b[0m \u001b[0mavg_rides_per_day\u001b[0m\u001b[0;34m\u001b[0m\u001b[0;34m\u001b[0m\u001b[0m\n\u001b[1;32m      5\u001b[0m \u001b[0;34m\u001b[0m\u001b[0m\n",
      "\u001b[0;31mNameError\u001b[0m: name 'uber_14' is not defined"
     ]
    }
   ],
   "source": [
    "#Average ride per week\n",
    "\n",
    "avg_rides_per_day = uber_14.shape[0] / uber_14.groupby([(uber_14['Month']), (uber_14['Week'])]).size().shape[0]\n",
    "avg_rides_per_day\n",
    "\n",
    "\n",
    "# (Number of rides|Rows)\n",
    "# uber_14.shape[0]  \n",
    "\n",
    "# Number of Days\n",
    "# uber_14.groupby([(uber_14['Month']), (uber_14['Day'])]).size().shape[0]"
   ]
  },
  {
   "cell_type": "code",
   "execution_count": 4,
   "metadata": {},
   "outputs": [],
   "source": [
    "# Exploratory Data analysis\n",
    "\n",
    "# Uber pickups divided by Base\n",
    "# Uber pickups divided by day of week\n",
    "# Uber pickups divided by hour of day\n",
    "# Average rides per day | average ride per week\n",
    "\n",
    "# Mark the pickups on a map\n",
    "# Most frequent locations on HeatMap (Technique by tomas)\n",
    "\n",
    "# Number of Uber pickups over time (Over the several days of the 6 months)\n",
    "\n",
    "# Do Regression of the number of pickups over time\n",
    "\n",
    "# Make sth with FOil file.. need to discuss what"
   ]
  },
  {
   "cell_type": "code",
   "execution_count": null,
   "metadata": {},
   "outputs": [],
   "source": [
    "# Pega nos ficheiros dos taxis|TLCs e comparar com Uber might be intersting.. Need help here"
   ]
  },
  {
   "cell_type": "code",
   "execution_count": null,
   "metadata": {},
   "outputs": [],
   "source": [
    "# Serie Temporal e|ou Clustering ?!? "
   ]
  }
 ],
 "metadata": {
  "language_info": {
   "codemirror_mode": {
    "name": "ipython",
    "version": 2
   },
   "file_extension": ".py",
   "mimetype": "text/x-python",
   "name": "python",
   "nbconvert_exporter": "python",
   "pygments_lexer": "ipython2",
   "version": "2.7.17-final"
  },
  "orig_nbformat": 2,
  "kernelspec": {
   "name": "python3",
   "display_name": "Python 3"
  }
 },
 "nbformat": 4,
 "nbformat_minor": 2
}