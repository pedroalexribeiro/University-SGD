{
 "cells": [
  {
   "cell_type": "markdown",
   "metadata": {},
   "source": [
    "# SGD assignment 3"
   ]
  },
  {
   "cell_type": "code",
   "execution_count": null,
   "metadata": {},
   "outputs": [],
   "source": [
    "# Dataset contains uber pickups in NYC from april to september 2014 and january to june 2015\n",
    "#Link:\n",
    "# easyjet.com/asp/EN/members/changeflightoptions.asp\n",
    "\n",
    "# Base ->  TLC licensed business that dispatches TLC licensed for-hire vehicles\n",
    "\n",
    "# Files we have\n",
    "\n",
    "#   1) uber-raw-data-Month14 -> 6 files (1 per month) containing the following information:\n",
    "\n",
    "#      Header\t        Definition\n",
    "#   Date/Time\t    The date and time of the Uber pickup\n",
    "#   Lat\t            The latitude of the Uber pickup\n",
    "#   Lon\t            The longitude of the Uber pickup\n",
    "#   Base\t        The TLC base company code affiliated with the Uber pickup\n",
    "\n",
    "\n",
    "#   2) uber-raw-data-janjune-15 contains the following information: \n",
    "\n",
    "#      Header\t                Definition\n",
    "# Dispatching_base_num\t    The TLC base company code of the base that dispatched the Uber\n",
    "# Pickup_date\t            The date and time of the Uber pickup\n",
    "# Affiliated_base_num\t    The TLC base company code affiliated with the Uber pickup\n",
    "# locationID\t            The pickup location ID affiliated with the Uber pickup\n",
    "\n",
    "# The Base codes are: \n",
    "# Base Code\t  Base Name\n",
    "# B02512\t    Unter\n",
    "# B02598\t    Hinter\n",
    "# B02617\t    Weiter\n",
    "# B02682\t    Schmecken\n",
    "# B02764\t    Danach-NY\n",
    "# B02765\t    Grun\n",
    "# B02835\t    Dreist\n",
    "# B02836\t    Drinnen\n",
    "\n",
    "#   3) Uber-jan-feb-FOIL contains the following information: \n",
    "# dispatching_base_number      date     active_vehicles        trips\n",
    "# B02512                     1/1/2015        190                1132\n",
    "# B02765                     1/1/2015        225                1765\n",
    "\n",
    "\n",
    "# Ha mais ficheiros de Taxis e outras TLCs.\n",
    "\n",
    "# Vou dividir agora 1 quadrado para cada coisa que deviamos fazer"
   ]
  },
  {
   "cell_type": "code",
   "execution_count": null,
   "metadata": {},
   "outputs": [],
   "source": [
    "# Exploratory Data analysis\n",
    "\n",
    "# Uber pickups divided by Base\n",
    "# Uber pickups divided by day of week\n",
    "# Uber pickups divided by hour of day\n",
    "# Average rides per day | average ride per week\n",
    "\n",
    "# Mark the pickups on a map\n",
    "# Most frequent locations on HeatMap (Technique by tomas)\n",
    "\n",
    "# Number of Uber pickups over time (Over the several days of the 6 months)\n",
    "\n",
    "# Do Regression of the number of pickups over time\n",
    "\n",
    "# Make sth with FOil file.. need to discuss what"
   ]
  },
  {
   "cell_type": "markdown",
   "metadata": {},
   "source": [
    "## Imports"
   ]
  },
  {
   "cell_type": "code",
   "execution_count": 33,
   "metadata": {},
   "outputs": [],
   "source": [
    "# Imports\n",
    "import pandas as pd\n",
    "import numpy as np\n",
    "import matplotlib.pyplot as plot\n",
    "import statsmodels.api as sm\n",
    "import statsmodels.formula.api as smf\n",
    "\n",
    "import patsy\n",
    "from sklearn.model_selection import train_test_split\n"
   ]
  },
  {
   "cell_type": "markdown",
   "metadata": {},
   "source": [
    "## Reading Data"
   ]
  },
  {
   "cell_type": "code",
   "execution_count": 2,
   "metadata": {},
   "outputs": [],
   "source": [
    "# Reading dataset\n",
    "# Uncomment your path, don't rewrite on the reads\n",
    "#pwd = '/home/pedro/workspace/UC/4ano/2semestre/SGD/project/sgd'\n",
    "pwd = '/home/francisco/Desktop/College/Mestrado/1º Ano/2o Semestre/SGD/Assignment3/sgd-project3'\n",
    "uber_april_14 = pd.read_csv(pwd + '/uber-tlc-foil-response-master/uber-trip-data/uber-raw-data-apr14.csv')\n",
    "uber_may_14 = pd.read_csv(pwd + '/uber-tlc-foil-response-master/uber-trip-data/uber-raw-data-may14.csv')\n",
    "uber_jun_14 = pd.read_csv(pwd + '/uber-tlc-foil-response-master/uber-trip-data/uber-raw-data-jun14.csv')\n",
    "uber_jul_14 = pd.read_csv(pwd + '/uber-tlc-foil-response-master/uber-trip-data/uber-raw-data-jul14.csv')\n",
    "uber_aug_14 = pd.read_csv(pwd + '/uber-tlc-foil-response-master/uber-trip-data/uber-raw-data-aug14.csv')\n",
    "uber_sep_14 = pd.read_csv(pwd + '/uber-tlc-foil-response-master/uber-trip-data/uber-raw-data-sep14.csv')\n",
    "lyft_aug_sep_14 = pd.read_csv(pwd + '/uber-tlc-foil-response-master/other-FHV-data/Lyft_B02510.csv')"
   ]
  },
  {
   "cell_type": "markdown",
   "metadata": {},
   "source": [
    "## Data treatment"
   ]
  },
  {
   "cell_type": "code",
   "execution_count": 20,
   "metadata": {},
   "outputs": [],
   "source": [
    "# Merging all 6 months datasets\n",
    "uber_14 = pd.concat([uber_april_14, uber_may_14, uber_jun_14, uber_jul_14, uber_aug_14, uber_sep_14])\n",
    "\n",
    "# Prepare Uber data\n",
    "uber_14['Date/Time'] = pd.to_datetime(uber_14['Date/Time'])\n",
    "uber_14['Month'] = uber_14['Date/Time'].dt.month\n",
    "uber_14['Day'] = uber_14['Date/Time'].dt.day\n",
    "uber_14['Hour'] = uber_14['Date/Time'].dt.hour\n",
    "uber_14['Week'] = uber_14['Date/Time'].dt.day_name()"
   ]
  },
  {
   "cell_type": "code",
   "execution_count": 3,
   "metadata": {},
   "outputs": [],
   "source": [
    "# Prepara Lyft and corresponding Uber months datasets\n",
    "uber_compare_14 = pd.concat([uber_aug_14, uber_sep_14])\n",
    "uber_compare_14['Date/Time'] = pd.to_datetime(uber_compare_14['Date/Time'])\n",
    "uber_compare_14['Month'] = uber_compare_14['Date/Time'].dt.month\n",
    "uber_compare_14['Day'] = uber_compare_14['Date/Time'].dt.day\n",
    "uber_compare_14['Hour'] = uber_compare_14['Date/Time'].dt.hour\n",
    "uber_compare_14['Week'] = uber_compare_14['Date/Time'].dt.day_name()"
   ]
  },
  {
   "cell_type": "code",
   "execution_count": null,
   "metadata": {},
   "outputs": [],
   "source": [
    "lyft_aug_sep_14['time_of_trip'] = pd.to_datetime(lyft_aug_sep_14['time_of_trip'])\n",
    "lyft_aug_sep_14['Month'] = lyft_aug_sep_14['time_of_trip'].dt.month\n",
    "lyft_aug_sep_14['Day'] = lyft_aug_sep_14['time_of_trip'].dt.day\n",
    "lyft_aug_sep_14['Hour'] = lyft_aug_sep_14['time_of_trip'].dt.hour\n",
    "lyft_aug_sep_14['Week'] = lyft_aug_sep_14['time_of_trip'].dt.day_name()"
   ]
  },
  {
   "cell_type": "code",
   "execution_count": null,
   "metadata": {},
   "outputs": [],
   "source": [
    "#Lyft vs Uber\n",
    "# Week number of Lyft vs Uber\n",
    "x = uber_compare_14.groupby(uber_compare_14['Week']).count()['Hour']\n",
    "w = lyft_aug_sep_14.groupby(lyft_aug_sep_14['Week']).count()['Hour']\n",
    "y = ['Monday', 'Tuesday', 'Wednesday', 'Thursday', 'Friday', 'Saturday', 'Sunday']\n",
    "\n",
    "\n",
    "# Creates Dataframe for plot\n",
    "number_rides_weekday = pd.DataFrame({'Uber': x, 'Lyft': w}, index=y)\n",
    "# Draws plot\n",
    "number_rides_weekday.plot.bar(rot=70)\n"
   ]
  },
  {
   "cell_type": "code",
   "execution_count": null,
   "metadata": {},
   "outputs": [],
   "source": [
    "#Lyft vs Uber\n",
    "# Month number of Lyft vs Uber\n",
    "x = uber_compare_14.groupby(uber_compare_14['Month']).count()['Hour']\n",
    "w = lyft_aug_sep_14.groupby(lyft_aug_sep_14['Month']).count()['Hour'] \n",
    "# Necessary because Lyft has some 'outliers' of month 7\n",
    "w = [w.values[1], w.values[2]]\n",
    "y = ['August', 'September']\n",
    "\n",
    "\n",
    "# Creates Dataframe for plot\n",
    "number_rides_weekday = pd.DataFrame({'Uber': x.values, 'Lyft': w}, index=y)\n",
    "# Draws plot\n",
    "number_rides_weekday.plot.barh(rot=15)"
   ]
  },
  {
   "cell_type": "code",
   "execution_count": null,
   "metadata": {},
   "outputs": [],
   "source": [
    "# Number of uber rides called per weekday\n",
    "\n",
    "# Int array containing Numbers per week\n",
    "x = uber_14.groupby(uber_14['Week']).count()['Hour']\n",
    "# String array containing Weekdays\n",
    "y = ['Monday', 'Tuesday', 'Wednesday', 'Thursday', 'Friday', 'Saturday', 'Sunday']\n",
    "\n",
    "\n",
    "# Creates Dataframe for plot\n",
    "number_rides_weekday = pd.DataFrame({'Number of rides': x}, index=y)\n",
    "# Draws plot\n",
    "number_rides_weekday.plot.bar(rot=70, title='Number of uber rides per weekday', color=\"#FF6361\")"
   ]
  },
  {
   "cell_type": "code",
   "execution_count": null,
   "metadata": {},
   "outputs": [],
   "source": [
    "# Group by Base and Count\n",
    "\n",
    "# Int array containing Numbers per Base\n",
    "x = uber_14.groupby(uber_14['Base']).count()['Hour']\n",
    "\n",
    "# String array containing Bases\n",
    "y = ['B02512', 'B02598', 'B02617', 'B02682', 'B02764']\n",
    "y_names = ['Unter', 'Hinter', 'Weiter', 'Schmecken', 'Danach']\n",
    "\n",
    "colors = [\"#003F5C\", \"#58508D\", \"#BC5090\", \"#FF6361\", \"#FFA600\"]\n",
    "# Pie Chart\n",
    "plot.pie( x, labels=y_names, colors=colors, autopct='%1.1f%%')\n",
    "#Aspect related options\n",
    "plot.axis('equal')\n",
    "plot.tight_layout()\n",
    "plot.title('Uber rides Base')\n",
    "plot.show()"
   ]
  },
  {
   "cell_type": "code",
   "execution_count": null,
   "metadata": {},
   "outputs": [],
   "source": [
    "# Group by Month\n",
    "\n",
    "x = uber_14.groupby('Month').count()['Week']\n",
    "y = ['April', 'May', 'June', 'July', 'August', 'September']\n",
    "\n",
    "\n",
    "# Creates Dataframe for plot\n",
    "number_rides_weekday = pd.DataFrame({'Number of rides': x.values}, index=y)\n",
    "# Draws plot\n",
    "number_rides_weekday.plot.bar(rot=0, title='Number of uber rides per Month', color=\"#FF6361\")"
   ]
  },
  {
   "cell_type": "code",
   "execution_count": null,
   "metadata": {},
   "outputs": [],
   "source": [
    "# Group by Hours of Day\n",
    "#uber_14.groupby(uber_14['Hour']).count()\n",
    "\n",
    "uber_14.boxplot(column=\"Hour\", vert=False, grid=False)\n",
    "plot.title('Uber ride Hours')\n",
    "plot.show()"
   ]
  },
  {
   "cell_type": "code",
   "execution_count": null,
   "metadata": {},
   "outputs": [],
   "source": [
    "#Group by Day-Month (Ammount of rides a day).\n",
    "x = uber_14.groupby([(uber_14['Month']), (uber_14['Day'])])['Day'].count()\n",
    "#x = uber_14['Month'].values\n",
    "x.keys\n"
   ]
  },
  {
   "cell_type": "code",
   "execution_count": null,
   "metadata": {},
   "outputs": [],
   "source": [
    "#Average ride per day\n",
    "\n",
    "avg_rides_per_day = uber_14.shape[0] / uber_14.groupby([(uber_14['Month']), (uber_14['Day'])]).size().shape[0]\n",
    "avg_rides_per_day\n",
    "\n",
    "\n",
    "# (Number of rides|Rows)\n",
    "# uber_14.shape[0]  \n",
    "\n",
    "# Number of Days\n",
    "# uber_14.groupby([(uber_14['Month']), (uber_14['Day'])]).size().shape[0]\n"
   ]
  },
  {
   "cell_type": "code",
   "execution_count": null,
   "metadata": {},
   "outputs": [],
   "source": [
    "#Average ride per week\n",
    "\n",
    "avg_rides_per_day = uber_14.shape[0] / uber_14.groupby([(uber_14['Month']), (uber_14['Week'])]).size().shape[0]\n",
    "avg_rides_per_day\n",
    "\n",
    "\n",
    "# (Number of rides|Rows)\n",
    "# uber_14.shape[0]  \n",
    "\n",
    "# Number of Days\n",
    "# uber_14.groupby([(uber_14['Month']), (uber_14['Day'])]).size().shape[0]"
   ]
  },
  {
   "cell_type": "markdown",
   "metadata": {},
   "source": [
    "## Point Scatter and HeatMap"
   ]
  },
  {
   "cell_type": "code",
   "execution_count": null,
   "metadata": {},
   "outputs": [],
   "source": [
    "# Pega nos ficheiros dos taxis|TLCs e comparar com Uber might be intersting.. Need help here"
   ]
  },
  {
   "cell_type": "code",
   "execution_count": null,
   "metadata": {},
   "outputs": [],
   "source": [
    "# Serie Temporal e|ou Clustering ?!? "
   ]
  },
  {
   "cell_type": "markdown",
   "metadata": {},
   "source": [
    "## Logistic Regression"
   ]
  },
  {
   "cell_type": "code",
   "execution_count": 55,
   "metadata": {},
   "outputs": [
    {
     "output_type": "execute_result",
     "data": {
      "text/html": "<table class=\"simpletable\">\n<caption>OLS Regression Results</caption>\n<tr>\n  <th>Dep. Variable:</th>            <td>y</td>        <th>  R-squared:         </th> <td>   0.459</td>\n</tr>\n<tr>\n  <th>Model:</th>                   <td>OLS</td>       <th>  Adj. R-squared:    </th> <td>   0.456</td>\n</tr>\n<tr>\n  <th>Method:</th>             <td>Least Squares</td>  <th>  F-statistic:       </th> <td>   153.8</td>\n</tr>\n<tr>\n  <th>Date:</th>             <td>Thu, 21 May 2020</td> <th>  Prob (F-statistic):</th> <td>5.80e-26</td>\n</tr>\n<tr>\n  <th>Time:</th>                 <td>00:35:26</td>     <th>  Log-Likelihood:    </th> <td> -1824.6</td>\n</tr>\n<tr>\n  <th>No. Observations:</th>      <td>   183</td>      <th>  AIC:               </th> <td>   3653.</td>\n</tr>\n<tr>\n  <th>Df Residuals:</th>          <td>   181</td>      <th>  BIC:               </th> <td>   3660.</td>\n</tr>\n<tr>\n  <th>Df Model:</th>              <td>     1</td>      <th>                     </th>     <td> </td>   \n</tr>\n<tr>\n  <th>Covariance Type:</th>      <td>nonrobust</td>    <th>                     </th>     <td> </td>   \n</tr>\n</table>\n<table class=\"simpletable\">\n<tr>\n    <td></td>       <th>coef</th>     <th>std err</th>      <th>t</th>      <th>P>|t|</th>  <th>[0.025</th>    <th>0.975]</th>  \n</tr>\n<tr>\n  <th>const</th> <td> 1.647e+04</td> <td>  772.574</td> <td>   21.316</td> <td> 0.000</td> <td> 1.49e+04</td> <td>  1.8e+04</td>\n</tr>\n<tr>\n  <th>x1</th>    <td>   90.3191</td> <td>    7.282</td> <td>   12.402</td> <td> 0.000</td> <td>   75.950</td> <td>  104.688</td>\n</tr>\n</table>\n<table class=\"simpletable\">\n<tr>\n  <th>Omnibus:</th>       <td> 0.488</td> <th>  Durbin-Watson:     </th> <td>   0.804</td>\n</tr>\n<tr>\n  <th>Prob(Omnibus):</th> <td> 0.784</td> <th>  Jarque-Bera (JB):  </th> <td>   0.217</td>\n</tr>\n<tr>\n  <th>Skew:</th>          <td> 0.030</td> <th>  Prob(JB):          </th> <td>   0.897</td>\n</tr>\n<tr>\n  <th>Kurtosis:</th>      <td> 3.158</td> <th>  Cond. No.          </th> <td>    213.</td>\n</tr>\n</table><br/><br/>Warnings:<br/>[1] Standard Errors assume that the covariance matrix of the errors is correctly specified.",
      "text/plain": "<class 'statsmodels.iolib.summary.Summary'>\n\"\"\"\n                            OLS Regression Results                            \n==============================================================================\nDep. Variable:                      y   R-squared:                       0.459\nModel:                            OLS   Adj. R-squared:                  0.456\nMethod:                 Least Squares   F-statistic:                     153.8\nDate:                Thu, 21 May 2020   Prob (F-statistic):           5.80e-26\nTime:                        00:35:26   Log-Likelihood:                -1824.6\nNo. Observations:                 183   AIC:                             3653.\nDf Residuals:                     181   BIC:                             3660.\nDf Model:                           1                                         \nCovariance Type:            nonrobust                                         \n==============================================================================\n                 coef    std err          t      P>|t|      [0.025      0.975]\n------------------------------------------------------------------------------\nconst       1.647e+04    772.574     21.316      0.000    1.49e+04     1.8e+04\nx1            90.3191      7.282     12.402      0.000      75.950     104.688\n==============================================================================\nOmnibus:                        0.488   Durbin-Watson:                   0.804\nProb(Omnibus):                  0.784   Jarque-Bera (JB):                0.217\nSkew:                           0.030   Prob(JB):                        0.897\nKurtosis:                       3.158   Cond. No.                         213.\n==============================================================================\n\nWarnings:\n[1] Standard Errors assume that the covariance matrix of the errors is correctly specified.\n\"\"\""
     },
     "metadata": {},
     "execution_count": 55
    }
   ],
   "source": [
    "# Linear Regression (Linear)\n",
    "\n",
    "# Fixing variables for Logistic Rregression\n",
    "\n",
    "x = uber_14.groupby([(uber_14['Month']), (uber_14['Day'])])['Day'].count()\n",
    "data = {\n",
    "        'Date' : x.keys().to_numpy(),\n",
    "        'Days' : range(1, x.keys().size+1),\n",
    "        'Count' : x.values\n",
    "}\n",
    "\n",
    "X = data['Days']\n",
    "X = sm.add_constant(X)\n",
    "Y = data['Count']\n",
    "\n",
    "model = sm.OLS(Y,X).fit()\n",
    "model.summary()"
   ]
  },
  {
   "cell_type": "code",
   "execution_count": 66,
   "metadata": {},
   "outputs": [
    {
     "output_type": "error",
     "ename": "ValueError",
     "evalue": "'log_Count' is not in list",
     "traceback": [
      "\u001b[0;31m---------------------------------------------------------------------------\u001b[0m",
      "\u001b[0;31mValueError\u001b[0m                                Traceback (most recent call last)",
      "\u001b[0;32m<ipython-input-66-0b1790d7dec4>\u001b[0m in \u001b[0;36m<module>\u001b[0;34m\u001b[0m\n\u001b[1;32m     16\u001b[0m \u001b[0;34m\u001b[0m\u001b[0m\n\u001b[1;32m     17\u001b[0m \u001b[0mfig\u001b[0m \u001b[0;34m=\u001b[0m \u001b[0mplot\u001b[0m\u001b[0;34m.\u001b[0m\u001b[0mfigure\u001b[0m\u001b[0;34m(\u001b[0m\u001b[0mfigsize\u001b[0m\u001b[0;34m=\u001b[0m\u001b[0;34m(\u001b[0m\u001b[0;36m12\u001b[0m\u001b[0;34m,\u001b[0m\u001b[0;36m8\u001b[0m\u001b[0;34m)\u001b[0m\u001b[0;34m)\u001b[0m\u001b[0;34m\u001b[0m\u001b[0;34m\u001b[0m\u001b[0m\n\u001b[0;32m---> 18\u001b[0;31m \u001b[0mfig\u001b[0m \u001b[0;34m=\u001b[0m \u001b[0msm\u001b[0m\u001b[0;34m.\u001b[0m\u001b[0mgraphics\u001b[0m\u001b[0;34m.\u001b[0m\u001b[0mplot_regress_exog\u001b[0m\u001b[0;34m(\u001b[0m\u001b[0mmodel\u001b[0m\u001b[0;34m,\u001b[0m \u001b[0;34m\"log_Count\"\u001b[0m\u001b[0;34m,\u001b[0m \u001b[0mfig\u001b[0m\u001b[0;34m=\u001b[0m\u001b[0mfig\u001b[0m\u001b[0;34m)\u001b[0m\u001b[0;34m\u001b[0m\u001b[0;34m\u001b[0m\u001b[0m\n\u001b[0m",
      "\u001b[0;32m~/.local/lib/python3.6/site-packages/statsmodels/graphics/regressionplots.py\u001b[0m in \u001b[0;36mplot_regress_exog\u001b[0;34m(results, exog_idx, fig)\u001b[0m\n\u001b[1;32m    218\u001b[0m     \u001b[0mfig\u001b[0m \u001b[0;34m=\u001b[0m \u001b[0mutils\u001b[0m\u001b[0;34m.\u001b[0m\u001b[0mcreate_mpl_fig\u001b[0m\u001b[0;34m(\u001b[0m\u001b[0mfig\u001b[0m\u001b[0;34m)\u001b[0m\u001b[0;34m\u001b[0m\u001b[0;34m\u001b[0m\u001b[0m\n\u001b[1;32m    219\u001b[0m \u001b[0;34m\u001b[0m\u001b[0m\n\u001b[0;32m--> 220\u001b[0;31m     \u001b[0mexog_name\u001b[0m\u001b[0;34m,\u001b[0m \u001b[0mexog_idx\u001b[0m \u001b[0;34m=\u001b[0m \u001b[0mutils\u001b[0m\u001b[0;34m.\u001b[0m\u001b[0mmaybe_name_or_idx\u001b[0m\u001b[0;34m(\u001b[0m\u001b[0mexog_idx\u001b[0m\u001b[0;34m,\u001b[0m \u001b[0mresults\u001b[0m\u001b[0;34m.\u001b[0m\u001b[0mmodel\u001b[0m\u001b[0;34m)\u001b[0m\u001b[0;34m\u001b[0m\u001b[0;34m\u001b[0m\u001b[0m\n\u001b[0m\u001b[1;32m    221\u001b[0m     \u001b[0mresults\u001b[0m \u001b[0;34m=\u001b[0m \u001b[0mmaybe_unwrap_results\u001b[0m\u001b[0;34m(\u001b[0m\u001b[0mresults\u001b[0m\u001b[0;34m)\u001b[0m\u001b[0;34m\u001b[0m\u001b[0;34m\u001b[0m\u001b[0m\n\u001b[1;32m    222\u001b[0m \u001b[0;34m\u001b[0m\u001b[0m\n",
      "\u001b[0;32m~/.local/lib/python3.6/site-packages/statsmodels/graphics/utils.py\u001b[0m in \u001b[0;36mmaybe_name_or_idx\u001b[0;34m(idx, model)\u001b[0m\n\u001b[1;32m    110\u001b[0m     \u001b[0;32melse\u001b[0m\u001b[0;34m:\u001b[0m \u001b[0;31m# assume we've got a string variable\u001b[0m\u001b[0;34m\u001b[0m\u001b[0;34m\u001b[0m\u001b[0m\n\u001b[1;32m    111\u001b[0m         \u001b[0mexog_name\u001b[0m \u001b[0;34m=\u001b[0m \u001b[0midx\u001b[0m\u001b[0;34m\u001b[0m\u001b[0;34m\u001b[0m\u001b[0m\n\u001b[0;32m--> 112\u001b[0;31m         \u001b[0mexog_idx\u001b[0m \u001b[0;34m=\u001b[0m \u001b[0mmodel\u001b[0m\u001b[0;34m.\u001b[0m\u001b[0mexog_names\u001b[0m\u001b[0;34m.\u001b[0m\u001b[0mindex\u001b[0m\u001b[0;34m(\u001b[0m\u001b[0midx\u001b[0m\u001b[0;34m)\u001b[0m\u001b[0;34m\u001b[0m\u001b[0;34m\u001b[0m\u001b[0m\n\u001b[0m\u001b[1;32m    113\u001b[0m \u001b[0;34m\u001b[0m\u001b[0m\n\u001b[1;32m    114\u001b[0m     \u001b[0;32mreturn\u001b[0m \u001b[0mexog_name\u001b[0m\u001b[0;34m,\u001b[0m \u001b[0mexog_idx\u001b[0m\u001b[0;34m\u001b[0m\u001b[0;34m\u001b[0m\u001b[0m\n",
      "\u001b[0;31mValueError\u001b[0m: 'log_Count' is not in list"
     ]
    }
   ],
   "source": [
    "x = uber_14.groupby([(uber_14['Month']), (uber_14['Day'])])['Day'].count()\n",
    "data = {\n",
    "        'Date' : x.keys().to_numpy(),\n",
    "        'Days' : range(1, x.keys().size+1),\n",
    "        'Count' : x.values\n",
    "}\n",
    "\n",
    "data['log_days'] = np.log(data['Days'])\n",
    "X = data['log_days']\n",
    "Y = data['Count']\n",
    "F = 'log_Count~log_days'\n",
    "\n",
    "model = sm.OLS(formula=F,endog=Y,exog=X).fit()\n",
    "model.summary()\n"
   ]
  },
  {
   "cell_type": "code",
   "execution_count": 21,
   "metadata": {},
   "outputs": [
    {
     "output_type": "display_data",
     "data": {
      "image/png": "[encoded data removed]",
      "text/plain": "<Figure size 432x288 with 1 Axes>",
      "image/svg+xml": "<?xml version=\"1.0\" encoding=\"utf-8\" standalone=\"no\"?>\n<!DOCTYPE svg PUBLIC \"-//W3C//DTD SVG 1.1//EN\"\n  \"http://www.w3.org/Graphics/SVG/1.1/DTD/svg11.dtd\">\n<!-- Created with matplotlib (https://matplotlib.org/) -->\n<svg height=\"262.19625pt\" version=\"1.1\" viewBox=\"0 0 388.965625 262.19625\" width=\"388.965625pt\" xmlns=\"http://www.w3.org/2000/svg\" xmlns:xlink=\"http://www.w3.org/1999/xlink\">\n <defs>\n  <style type=\"text/css\">\n*{stroke-linecap:butt;stroke-linejoin:round;}\n  </style>\n </defs>\n <g id=\"figure_1\">\n  <g id=\"patch_1\">\n   <path d=\"M -0 262.19625 \nL 388.965625 262.19625 \nL 388.965625 0 \nL -0 0 \nz\n\" style=\"fill:none;\"/>\n  </g>\n  <g id=\"axes_1\">\n   <g id=\"patch_2\">\n    <path d=\"M 46.965625 224.64 \nL 381.765625 224.64 \nL 381.765625 7.2 \nL 46.965625 7.2 \nz\n\" style=\"fill:#ffffff;\"/>\n   </g>\n   <g id=\"PathCollection_1\">\n    <defs>\n     <path d=\"M 0 2.236068 \nC 0.593012 2.236068 1.161816 2.000462 1.581139 1.581139 \nC 2.000462 1.161816 2.236068 0.593012 2.236068 0 \nC 2.236068 -0.593012 2.000462 -1.161816 1.581139 -1.581139 \nC 1.161816 -2.000462 0.593012 -2.236068 0 -2.236068 \nC -0.593012 -2.236068 -1.161816 -2.000462 -1.581139 -1.581139 \nC -2.000462 -1.161816 -2.236068 -0.593012 -2.236068 0 \nC -2.236068 0.593012 -2.000462 1.161816 -1.581139 1.581139 \nC -1.161816 2.000462 -0.593012 2.236068 0 2.236068 \nz\n\" id=\"mbf1dad23c3\" style=\"stroke:#1f77b4;\"/>\n    </defs>\n    <g clip-path=\"url(#pbd0f78b40a)\">\n     <use style=\"fill:#1f77b4;stroke:#1f77b4;\" x=\"102.245487\" xlink:href=\"#mbf1dad23c3\" y=\"214.756364\"/>\n     <use style=\"fill:#1f77b4;stroke:#1f77b4;\" x=\"129.248388\" xlink:href=\"#mbf1dad23c3\" y=\"213.67025\"/>\n     <use style=\"fill:#1f77b4;stroke:#1f77b4;\" x=\"159.008757\" xlink:href=\"#mbf1dad23c3\" y=\"212.584136\"/>\n     <use style=\"fill:#1f77b4;stroke:#1f77b4;\" x=\"214.462459\" xlink:href=\"#mbf1dad23c3\" y=\"211.498022\"/>\n     <use style=\"fill:#1f77b4;stroke:#1f77b4;\" x=\"148.12644\" xlink:href=\"#mbf1dad23c3\" y=\"210.411908\"/>\n     <use style=\"fill:#1f77b4;stroke:#1f77b4;\" x=\"92.091733\" xlink:href=\"#mbf1dad23c3\" y=\"209.325794\"/>\n     <use style=\"fill:#1f77b4;stroke:#1f77b4;\" x=\"148.393887\" xlink:href=\"#mbf1dad23c3\" y=\"208.23968\"/>\n     <use style=\"fill:#1f77b4;stroke:#1f77b4;\" x=\"117.388507\" xlink:href=\"#mbf1dad23c3\" y=\"207.153566\"/>\n     <use style=\"fill:#1f77b4;stroke:#1f77b4;\" x=\"123.429115\" xlink:href=\"#mbf1dad23c3\" y=\"206.067453\"/>\n     <use style=\"fill:#1f77b4;stroke:#1f77b4;\" x=\"152.922037\" xlink:href=\"#mbf1dad23c3\" y=\"204.981339\"/>\n     <use style=\"fill:#1f77b4;stroke:#1f77b4;\" x=\"156.41729\" xlink:href=\"#mbf1dad23c3\" y=\"203.895225\"/>\n     <use style=\"fill:#1f77b4;stroke:#1f77b4;\" x=\"135.66711\" xlink:href=\"#mbf1dad23c3\" y=\"202.809111\"/>\n     <use style=\"fill:#1f77b4;stroke:#1f77b4;\" x=\"79.798404\" xlink:href=\"#mbf1dad23c3\" y=\"201.722997\"/>\n     <use style=\"fill:#1f77b4;stroke:#1f77b4;\" x=\"84.981338\" xlink:href=\"#mbf1dad23c3\" y=\"200.636883\"/>\n     <use style=\"fill:#1f77b4;stroke:#1f77b4;\" x=\"158.455418\" xlink:href=\"#mbf1dad23c3\" y=\"199.550769\"/>\n     <use style=\"fill:#1f77b4;stroke:#1f77b4;\" x=\"131.489407\" xlink:href=\"#mbf1dad23c3\" y=\"198.464655\"/>\n     <use style=\"fill:#1f77b4;stroke:#1f77b4;\" x=\"161.517223\" xlink:href=\"#mbf1dad23c3\" y=\"197.378541\"/>\n     <use style=\"fill:#1f77b4;stroke:#1f77b4;\" x=\"134.781769\" xlink:href=\"#mbf1dad23c3\" y=\"196.292428\"/>\n     <use style=\"fill:#1f77b4;stroke:#1f77b4;\" x=\"102.761936\" xlink:href=\"#mbf1dad23c3\" y=\"195.206314\"/>\n     <use style=\"fill:#1f77b4;stroke:#1f77b4;\" x=\"69.699983\" xlink:href=\"#mbf1dad23c3\" y=\"194.1202\"/>\n     <use style=\"fill:#1f77b4;stroke:#1f77b4;\" x=\"89.481821\" xlink:href=\"#mbf1dad23c3\" y=\"193.034086\"/>\n     <use style=\"fill:#1f77b4;stroke:#1f77b4;\" x=\"124.646459\" xlink:href=\"#mbf1dad23c3\" y=\"191.947972\"/>\n     <use style=\"fill:#1f77b4;stroke:#1f77b4;\" x=\"155.734839\" xlink:href=\"#mbf1dad23c3\" y=\"190.861858\"/>\n     <use style=\"fill:#1f77b4;stroke:#1f77b4;\" x=\"183.457079\" xlink:href=\"#mbf1dad23c3\" y=\"189.775744\"/>\n     <use style=\"fill:#1f77b4;stroke:#1f77b4;\" x=\"199.531552\" xlink:href=\"#mbf1dad23c3\" y=\"188.68963\"/>\n     <use style=\"fill:#1f77b4;stroke:#1f77b4;\" x=\"197.963761\" xlink:href=\"#mbf1dad23c3\" y=\"187.603516\"/>\n     <use style=\"fill:#1f77b4;stroke:#1f77b4;\" x=\"103.453609\" xlink:href=\"#mbf1dad23c3\" y=\"186.517403\"/>\n     <use style=\"fill:#1f77b4;stroke:#1f77b4;\" x=\"110.813006\" xlink:href=\"#mbf1dad23c3\" y=\"185.431289\"/>\n     <use style=\"fill:#1f77b4;stroke:#1f77b4;\" x=\"178.689149\" xlink:href=\"#mbf1dad23c3\" y=\"184.345175\"/>\n     <use style=\"fill:#1f77b4;stroke:#1f77b4;\" x=\"302.415554\" xlink:href=\"#mbf1dad23c3\" y=\"183.259061\"/>\n     <use style=\"fill:#1f77b4;stroke:#1f77b4;\" x=\"183.669192\" xlink:href=\"#mbf1dad23c3\" y=\"182.172947\"/>\n     <use style=\"fill:#1f77b4;stroke:#1f77b4;\" x=\"191.600372\" xlink:href=\"#mbf1dad23c3\" y=\"181.086833\"/>\n     <use style=\"fill:#1f77b4;stroke:#1f77b4;\" x=\"173.146546\" xlink:href=\"#mbf1dad23c3\" y=\"180.000719\"/>\n     <use style=\"fill:#1f77b4;stroke:#1f77b4;\" x=\"96.453881\" xlink:href=\"#mbf1dad23c3\" y=\"178.914605\"/>\n     <use style=\"fill:#1f77b4;stroke:#1f77b4;\" x=\"132.798974\" xlink:href=\"#mbf1dad23c3\" y=\"177.828492\"/>\n     <use style=\"fill:#1f77b4;stroke:#1f77b4;\" x=\"146.088311\" xlink:href=\"#mbf1dad23c3\" y=\"176.742378\"/>\n     <use style=\"fill:#1f77b4;stroke:#1f77b4;\" x=\"169.983296\" xlink:href=\"#mbf1dad23c3\" y=\"175.656264\"/>\n     <use style=\"fill:#1f77b4;stroke:#1f77b4;\" x=\"221.831079\" xlink:href=\"#mbf1dad23c3\" y=\"174.57015\"/>\n     <use style=\"fill:#1f77b4;stroke:#1f77b4;\" x=\"211.428322\" xlink:href=\"#mbf1dad23c3\" y=\"173.484036\"/>\n     <use style=\"fill:#1f77b4;stroke:#1f77b4;\" x=\"176.060793\" xlink:href=\"#mbf1dad23c3\" y=\"172.397922\"/>\n     <use style=\"fill:#1f77b4;stroke:#1f77b4;\" x=\"105.519404\" xlink:href=\"#mbf1dad23c3\" y=\"171.311808\"/>\n     <use style=\"fill:#1f77b4;stroke:#1f77b4;\" x=\"129.211499\" xlink:href=\"#mbf1dad23c3\" y=\"170.225694\"/>\n     <use style=\"fill:#1f77b4;stroke:#1f77b4;\" x=\"147.914327\" xlink:href=\"#mbf1dad23c3\" y=\"169.13958\"/>\n     <use style=\"fill:#1f77b4;stroke:#1f77b4;\" x=\"172.998989\" xlink:href=\"#mbf1dad23c3\" y=\"168.053467\"/>\n     <use style=\"fill:#1f77b4;stroke:#1f77b4;\" x=\"210.653648\" xlink:href=\"#mbf1dad23c3\" y=\"166.967353\"/>\n     <use style=\"fill:#1f77b4;stroke:#1f77b4;\" x=\"267.758143\" xlink:href=\"#mbf1dad23c3\" y=\"165.881239\"/>\n     <use style=\"fill:#1f77b4;stroke:#1f77b4;\" x=\"173.699884\" xlink:href=\"#mbf1dad23c3\" y=\"164.795125\"/>\n     <use style=\"fill:#1f77b4;stroke:#1f77b4;\" x=\"120.339644\" xlink:href=\"#mbf1dad23c3\" y=\"163.709011\"/>\n     <use style=\"fill:#1f77b4;stroke:#1f77b4;\" x=\"137.004344\" xlink:href=\"#mbf1dad23c3\" y=\"162.622897\"/>\n     <use style=\"fill:#1f77b4;stroke:#1f77b4;\" x=\"160.475103\" xlink:href=\"#mbf1dad23c3\" y=\"161.536783\"/>\n     <use style=\"fill:#1f77b4;stroke:#1f77b4;\" x=\"184.895759\" xlink:href=\"#mbf1dad23c3\" y=\"160.450669\"/>\n     <use style=\"fill:#1f77b4;stroke:#1f77b4;\" x=\"215.274022\" xlink:href=\"#mbf1dad23c3\" y=\"159.364555\"/>\n     <use style=\"fill:#1f77b4;stroke:#1f77b4;\" x=\"212.166106\" xlink:href=\"#mbf1dad23c3\" y=\"158.278442\"/>\n     <use style=\"fill:#1f77b4;stroke:#1f77b4;\" x=\"103.213829\" xlink:href=\"#mbf1dad23c3\" y=\"157.192328\"/>\n     <use style=\"fill:#1f77b4;stroke:#1f77b4;\" x=\"68.076858\" xlink:href=\"#mbf1dad23c3\" y=\"156.106214\"/>\n     <use style=\"fill:#1f77b4;stroke:#1f77b4;\" x=\"62.183807\" xlink:href=\"#mbf1dad23c3\" y=\"155.0201\"/>\n     <use style=\"fill:#1f77b4;stroke:#1f77b4;\" x=\"124.913906\" xlink:href=\"#mbf1dad23c3\" y=\"153.933986\"/>\n     <use style=\"fill:#1f77b4;stroke:#1f77b4;\" x=\"173.20188\" xlink:href=\"#mbf1dad23c3\" y=\"152.847872\"/>\n     <use style=\"fill:#1f77b4;stroke:#1f77b4;\" x=\"198.009872\" xlink:href=\"#mbf1dad23c3\" y=\"151.761758\"/>\n     <use style=\"fill:#1f77b4;stroke:#1f77b4;\" x=\"193.241942\" xlink:href=\"#mbf1dad23c3\" y=\"150.675644\"/>\n     <use style=\"fill:#1f77b4;stroke:#1f77b4;\" x=\"164.173246\" xlink:href=\"#mbf1dad23c3\" y=\"149.58953\"/>\n     <use style=\"fill:#1f77b4;stroke:#1f77b4;\" x=\"115.350378\" xlink:href=\"#mbf1dad23c3\" y=\"148.503417\"/>\n     <use style=\"fill:#1f77b4;stroke:#1f77b4;\" x=\"129.515834\" xlink:href=\"#mbf1dad23c3\" y=\"147.417303\"/>\n     <use style=\"fill:#1f77b4;stroke:#1f77b4;\" x=\"177.204359\" xlink:href=\"#mbf1dad23c3\" y=\"146.331189\"/>\n     <use style=\"fill:#1f77b4;stroke:#1f77b4;\" x=\"178.65226\" xlink:href=\"#mbf1dad23c3\" y=\"145.245075\"/>\n     <use style=\"fill:#1f77b4;stroke:#1f77b4;\" x=\"229.743814\" xlink:href=\"#mbf1dad23c3\" y=\"144.158961\"/>\n     <use style=\"fill:#1f77b4;stroke:#1f77b4;\" x=\"195.731964\" xlink:href=\"#mbf1dad23c3\" y=\"143.072847\"/>\n     <use style=\"fill:#1f77b4;stroke:#1f77b4;\" x=\"160.742549\" xlink:href=\"#mbf1dad23c3\" y=\"141.986733\"/>\n     <use style=\"fill:#1f77b4;stroke:#1f77b4;\" x=\"113.339917\" xlink:href=\"#mbf1dad23c3\" y=\"140.900619\"/>\n     <use style=\"fill:#1f77b4;stroke:#1f77b4;\" x=\"182.461071\" xlink:href=\"#mbf1dad23c3\" y=\"139.814505\"/>\n     <use style=\"fill:#1f77b4;stroke:#1f77b4;\" x=\"179.048819\" xlink:href=\"#mbf1dad23c3\" y=\"138.728392\"/>\n     <use style=\"fill:#1f77b4;stroke:#1f77b4;\" x=\"205.258602\" xlink:href=\"#mbf1dad23c3\" y=\"137.642278\"/>\n     <use style=\"fill:#1f77b4;stroke:#1f77b4;\" x=\"243.328265\" xlink:href=\"#mbf1dad23c3\" y=\"136.556164\"/>\n     <use style=\"fill:#1f77b4;stroke:#1f77b4;\" x=\"255.898263\" xlink:href=\"#mbf1dad23c3\" y=\"135.47005\"/>\n     <use style=\"fill:#1f77b4;stroke:#1f77b4;\" x=\"146.337314\" xlink:href=\"#mbf1dad23c3\" y=\"134.383936\"/>\n     <use style=\"fill:#1f77b4;stroke:#1f77b4;\" x=\"101.922707\" xlink:href=\"#mbf1dad23c3\" y=\"133.297822\"/>\n     <use style=\"fill:#1f77b4;stroke:#1f77b4;\" x=\"132.051968\" xlink:href=\"#mbf1dad23c3\" y=\"132.211708\"/>\n     <use style=\"fill:#1f77b4;stroke:#1f77b4;\" x=\"169.208623\" xlink:href=\"#mbf1dad23c3\" y=\"131.125594\"/>\n     <use style=\"fill:#1f77b4;stroke:#1f77b4;\" x=\"195.399961\" xlink:href=\"#mbf1dad23c3\" y=\"130.039481\"/>\n     <use style=\"fill:#1f77b4;stroke:#1f77b4;\" x=\"231.800387\" xlink:href=\"#mbf1dad23c3\" y=\"128.953367\"/>\n     <use style=\"fill:#1f77b4;stroke:#1f77b4;\" x=\"191.932375\" xlink:href=\"#mbf1dad23c3\" y=\"127.867253\"/>\n     <use style=\"fill:#1f77b4;stroke:#1f77b4;\" x=\"151.990585\" xlink:href=\"#mbf1dad23c3\" y=\"126.781139\"/>\n     <use style=\"fill:#1f77b4;stroke:#1f77b4;\" x=\"118.624296\" xlink:href=\"#mbf1dad23c3\" y=\"125.695025\"/>\n     <use style=\"fill:#1f77b4;stroke:#1f77b4;\" x=\"131.655409\" xlink:href=\"#mbf1dad23c3\" y=\"124.608911\"/>\n     <use style=\"fill:#1f77b4;stroke:#1f77b4;\" x=\"159.728096\" xlink:href=\"#mbf1dad23c3\" y=\"123.522797\"/>\n     <use style=\"fill:#1f77b4;stroke:#1f77b4;\" x=\"212.119994\" xlink:href=\"#mbf1dad23c3\" y=\"122.436683\"/>\n     <use style=\"fill:#1f77b4;stroke:#1f77b4;\" x=\"231.081048\" xlink:href=\"#mbf1dad23c3\" y=\"121.350569\"/>\n     <use style=\"fill:#1f77b4;stroke:#1f77b4;\" x=\"197.687092\" xlink:href=\"#mbf1dad23c3\" y=\"120.264456\"/>\n     <use style=\"fill:#1f77b4;stroke:#1f77b4;\" x=\"163.684464\" xlink:href=\"#mbf1dad23c3\" y=\"119.178342\"/>\n     <use style=\"fill:#1f77b4;stroke:#1f77b4;\" x=\"125.863803\" xlink:href=\"#mbf1dad23c3\" y=\"118.092228\"/>\n     <use style=\"fill:#1f77b4;stroke:#1f77b4;\" x=\"137.742128\" xlink:href=\"#mbf1dad23c3\" y=\"117.006114\"/>\n     <use style=\"fill:#1f77b4;stroke:#1f77b4;\" x=\"163.86891\" xlink:href=\"#mbf1dad23c3\" y=\"115.92\"/>\n     <use style=\"fill:#1f77b4;stroke:#1f77b4;\" x=\"212.30444\" xlink:href=\"#mbf1dad23c3\" y=\"114.833886\"/>\n     <use style=\"fill:#1f77b4;stroke:#1f77b4;\" x=\"167.271939\" xlink:href=\"#mbf1dad23c3\" y=\"113.747772\"/>\n     <use style=\"fill:#1f77b4;stroke:#1f77b4;\" x=\"98.575011\" xlink:href=\"#mbf1dad23c3\" y=\"112.661658\"/>\n     <use style=\"fill:#1f77b4;stroke:#1f77b4;\" x=\"68.528751\" xlink:href=\"#mbf1dad23c3\" y=\"111.575544\"/>\n     <use style=\"fill:#1f77b4;stroke:#1f77b4;\" x=\"73.628684\" xlink:href=\"#mbf1dad23c3\" y=\"110.489431\"/>\n     <use style=\"fill:#1f77b4;stroke:#1f77b4;\" x=\"136.681563\" xlink:href=\"#mbf1dad23c3\" y=\"109.403317\"/>\n     <use style=\"fill:#1f77b4;stroke:#1f77b4;\" x=\"205.69205\" xlink:href=\"#mbf1dad23c3\" y=\"108.317203\"/>\n     <use style=\"fill:#1f77b4;stroke:#1f77b4;\" x=\"224.634658\" xlink:href=\"#mbf1dad23c3\" y=\"107.231089\"/>\n     <use style=\"fill:#1f77b4;stroke:#1f77b4;\" x=\"249.756209\" xlink:href=\"#mbf1dad23c3\" y=\"106.144975\"/>\n     <use style=\"fill:#1f77b4;stroke:#1f77b4;\" x=\"233.257511\" xlink:href=\"#mbf1dad23c3\" y=\"105.058861\"/>\n     <use style=\"fill:#1f77b4;stroke:#1f77b4;\" x=\"207.287508\" xlink:href=\"#mbf1dad23c3\" y=\"103.972747\"/>\n     <use style=\"fill:#1f77b4;stroke:#1f77b4;\" x=\"162.522454\" xlink:href=\"#mbf1dad23c3\" y=\"102.886633\"/>\n     <use style=\"fill:#1f77b4;stroke:#1f77b4;\" x=\"220.327843\" xlink:href=\"#mbf1dad23c3\" y=\"101.800519\"/>\n     <use style=\"fill:#1f77b4;stroke:#1f77b4;\" x=\"280.226695\" xlink:href=\"#mbf1dad23c3\" y=\"100.714406\"/>\n     <use style=\"fill:#1f77b4;stroke:#1f77b4;\" x=\"231.920277\" xlink:href=\"#mbf1dad23c3\" y=\"99.628292\"/>\n     <use style=\"fill:#1f77b4;stroke:#1f77b4;\" x=\"251.314778\" xlink:href=\"#mbf1dad23c3\" y=\"98.542178\"/>\n     <use style=\"fill:#1f77b4;stroke:#1f77b4;\" x=\"243.475822\" xlink:href=\"#mbf1dad23c3\" y=\"97.456064\"/>\n     <use style=\"fill:#1f77b4;stroke:#1f77b4;\" x=\"205.350825\" xlink:href=\"#mbf1dad23c3\" y=\"96.36995\"/>\n     <use style=\"fill:#1f77b4;stroke:#1f77b4;\" x=\"163.721353\" xlink:href=\"#mbf1dad23c3\" y=\"95.283836\"/>\n     <use style=\"fill:#1f77b4;stroke:#1f77b4;\" x=\"185.54132\" xlink:href=\"#mbf1dad23c3\" y=\"94.197722\"/>\n     <use style=\"fill:#1f77b4;stroke:#1f77b4;\" x=\"235.812089\" xlink:href=\"#mbf1dad23c3\" y=\"93.111608\"/>\n     <use style=\"fill:#1f77b4;stroke:#1f77b4;\" x=\"282.32938\" xlink:href=\"#mbf1dad23c3\" y=\"92.025495\"/>\n     <use style=\"fill:#1f77b4;stroke:#1f77b4;\" x=\"263.672663\" xlink:href=\"#mbf1dad23c3\" y=\"90.939381\"/>\n     <use style=\"fill:#1f77b4;stroke:#1f77b4;\" x=\"244.536386\" xlink:href=\"#mbf1dad23c3\" y=\"89.853267\"/>\n     <use style=\"fill:#1f77b4;stroke:#1f77b4;\" x=\"223.629427\" xlink:href=\"#mbf1dad23c3\" y=\"88.767153\"/>\n     <use style=\"fill:#1f77b4;stroke:#1f77b4;\" x=\"176.429685\" xlink:href=\"#mbf1dad23c3\" y=\"87.681039\"/>\n     <use style=\"fill:#1f77b4;stroke:#1f77b4;\" x=\"189.257908\" xlink:href=\"#mbf1dad23c3\" y=\"86.594925\"/>\n     <use style=\"fill:#1f77b4;stroke:#1f77b4;\" x=\"222.531974\" xlink:href=\"#mbf1dad23c3\" y=\"85.508811\"/>\n     <use style=\"fill:#1f77b4;stroke:#1f77b4;\" x=\"251.591447\" xlink:href=\"#mbf1dad23c3\" y=\"84.422697\"/>\n     <use style=\"fill:#1f77b4;stroke:#1f77b4;\" x=\"277.423116\" xlink:href=\"#mbf1dad23c3\" y=\"83.336583\"/>\n     <use style=\"fill:#1f77b4;stroke:#1f77b4;\" x=\"266.467021\" xlink:href=\"#mbf1dad23c3\" y=\"82.25047\"/>\n     <use style=\"fill:#1f77b4;stroke:#1f77b4;\" x=\"232.575061\" xlink:href=\"#mbf1dad23c3\" y=\"81.164356\"/>\n     <use style=\"fill:#1f77b4;stroke:#1f77b4;\" x=\"181.557285\" xlink:href=\"#mbf1dad23c3\" y=\"80.078242\"/>\n     <use style=\"fill:#1f77b4;stroke:#1f77b4;\" x=\"198.212763\" xlink:href=\"#mbf1dad23c3\" y=\"78.992128\"/>\n     <use style=\"fill:#1f77b4;stroke:#1f77b4;\" x=\"227.189236\" xlink:href=\"#mbf1dad23c3\" y=\"77.906014\"/>\n     <use style=\"fill:#1f77b4;stroke:#1f77b4;\" x=\"249.331983\" xlink:href=\"#mbf1dad23c3\" y=\"76.8199\"/>\n     <use style=\"fill:#1f77b4;stroke:#1f77b4;\" x=\"270.211275\" xlink:href=\"#mbf1dad23c3\" y=\"75.733786\"/>\n     <use style=\"fill:#1f77b4;stroke:#1f77b4;\" x=\"248.55731\" xlink:href=\"#mbf1dad23c3\" y=\"74.647672\"/>\n     <use style=\"fill:#1f77b4;stroke:#1f77b4;\" x=\"210.515314\" xlink:href=\"#mbf1dad23c3\" y=\"73.561558\"/>\n     <use style=\"fill:#1f77b4;stroke:#1f77b4;\" x=\"157.929747\" xlink:href=\"#mbf1dad23c3\" y=\"72.475445\"/>\n     <use style=\"fill:#1f77b4;stroke:#1f77b4;\" x=\"176.817022\" xlink:href=\"#mbf1dad23c3\" y=\"71.389331\"/>\n     <use style=\"fill:#1f77b4;stroke:#1f77b4;\" x=\"241.502249\" xlink:href=\"#mbf1dad23c3\" y=\"70.303217\"/>\n     <use style=\"fill:#1f77b4;stroke:#1f77b4;\" x=\"242.811816\" xlink:href=\"#mbf1dad23c3\" y=\"69.217103\"/>\n     <use style=\"fill:#1f77b4;stroke:#1f77b4;\" x=\"248.981536\" xlink:href=\"#mbf1dad23c3\" y=\"68.130989\"/>\n     <use style=\"fill:#1f77b4;stroke:#1f77b4;\" x=\"235.304862\" xlink:href=\"#mbf1dad23c3\" y=\"67.044875\"/>\n     <use style=\"fill:#1f77b4;stroke:#1f77b4;\" x=\"210.035754\" xlink:href=\"#mbf1dad23c3\" y=\"65.958761\"/>\n     <use style=\"fill:#1f77b4;stroke:#1f77b4;\" x=\"163.693686\" xlink:href=\"#mbf1dad23c3\" y=\"64.872647\"/>\n     <use style=\"fill:#1f77b4;stroke:#1f77b4;\" x=\"170.582746\" xlink:href=\"#mbf1dad23c3\" y=\"63.786533\"/>\n     <use style=\"fill:#1f77b4;stroke:#1f77b4;\" x=\"197.124531\" xlink:href=\"#mbf1dad23c3\" y=\"62.70042\"/>\n     <use style=\"fill:#1f77b4;stroke:#1f77b4;\" x=\"225.907336\" xlink:href=\"#mbf1dad23c3\" y=\"61.614306\"/>\n     <use style=\"fill:#1f77b4;stroke:#1f77b4;\" x=\"266.015128\" xlink:href=\"#mbf1dad23c3\" y=\"60.528192\"/>\n     <use style=\"fill:#1f77b4;stroke:#1f77b4;\" x=\"240.26646\" xlink:href=\"#mbf1dad23c3\" y=\"59.442078\"/>\n     <use style=\"fill:#1f77b4;stroke:#1f77b4;\" x=\"217.994601\" xlink:href=\"#mbf1dad23c3\" y=\"58.355964\"/>\n     <use style=\"fill:#1f77b4;stroke:#1f77b4;\" x=\"171.32053\" xlink:href=\"#mbf1dad23c3\" y=\"57.26985\"/>\n     <use style=\"fill:#1f77b4;stroke:#1f77b4;\" x=\"171.846201\" xlink:href=\"#mbf1dad23c3\" y=\"56.183736\"/>\n     <use style=\"fill:#1f77b4;stroke:#1f77b4;\" x=\"194.505397\" xlink:href=\"#mbf1dad23c3\" y=\"55.097622\"/>\n     <use style=\"fill:#1f77b4;stroke:#1f77b4;\" x=\"217.266039\" xlink:href=\"#mbf1dad23c3\" y=\"54.011508\"/>\n     <use style=\"fill:#1f77b4;stroke:#1f77b4;\" x=\"231.828054\" xlink:href=\"#mbf1dad23c3\" y=\"52.925395\"/>\n     <use style=\"fill:#1f77b4;stroke:#1f77b4;\" x=\"221.010294\" xlink:href=\"#mbf1dad23c3\" y=\"51.839281\"/>\n     <use style=\"fill:#1f77b4;stroke:#1f77b4;\" x=\"188.78757\" xlink:href=\"#mbf1dad23c3\" y=\"50.753167\"/>\n     <use style=\"fill:#1f77b4;stroke:#1f77b4;\" x=\"182.710073\" xlink:href=\"#mbf1dad23c3\" y=\"49.667053\"/>\n     <use style=\"fill:#1f77b4;stroke:#1f77b4;\" x=\"152.184253\" xlink:href=\"#mbf1dad23c3\" y=\"48.580939\"/>\n     <use style=\"fill:#1f77b4;stroke:#1f77b4;\" x=\"233.986073\" xlink:href=\"#mbf1dad23c3\" y=\"47.494825\"/>\n     <use style=\"fill:#1f77b4;stroke:#1f77b4;\" x=\"269.030821\" xlink:href=\"#mbf1dad23c3\" y=\"46.408711\"/>\n     <use style=\"fill:#1f77b4;stroke:#1f77b4;\" x=\"321.865389\" xlink:href=\"#mbf1dad23c3\" y=\"45.322597\"/>\n     <use style=\"fill:#1f77b4;stroke:#1f77b4;\" x=\"358.376484\" xlink:href=\"#mbf1dad23c3\" y=\"44.236484\"/>\n     <use style=\"fill:#1f77b4;stroke:#1f77b4;\" x=\"341.785562\" xlink:href=\"#mbf1dad23c3\" y=\"43.15037\"/>\n     <use style=\"fill:#1f77b4;stroke:#1f77b4;\" x=\"246.002732\" xlink:href=\"#mbf1dad23c3\" y=\"42.064256\"/>\n     <use style=\"fill:#1f77b4;stroke:#1f77b4;\" x=\"248.086973\" xlink:href=\"#mbf1dad23c3\" y=\"40.978142\"/>\n     <use style=\"fill:#1f77b4;stroke:#1f77b4;\" x=\"286.820641\" xlink:href=\"#mbf1dad23c3\" y=\"39.892028\"/>\n     <use style=\"fill:#1f77b4;stroke:#1f77b4;\" x=\"299.270749\" xlink:href=\"#mbf1dad23c3\" y=\"38.805914\"/>\n     <use style=\"fill:#1f77b4;stroke:#1f77b4;\" x=\"304.149347\" xlink:href=\"#mbf1dad23c3\" y=\"37.7198\"/>\n     <use style=\"fill:#1f77b4;stroke:#1f77b4;\" x=\"332.747706\" xlink:href=\"#mbf1dad23c3\" y=\"36.633686\"/>\n     <use style=\"fill:#1f77b4;stroke:#1f77b4;\" x=\"366.547443\" xlink:href=\"#mbf1dad23c3\" y=\"35.547572\"/>\n     <use style=\"fill:#1f77b4;stroke:#1f77b4;\" x=\"227.447461\" xlink:href=\"#mbf1dad23c3\" y=\"34.461459\"/>\n     <use style=\"fill:#1f77b4;stroke:#1f77b4;\" x=\"239.731567\" xlink:href=\"#mbf1dad23c3\" y=\"33.375345\"/>\n     <use style=\"fill:#1f77b4;stroke:#1f77b4;\" x=\"300.949208\" xlink:href=\"#mbf1dad23c3\" y=\"32.289231\"/>\n     <use style=\"fill:#1f77b4;stroke:#1f77b4;\" x=\"295.775497\" xlink:href=\"#mbf1dad23c3\" y=\"31.203117\"/>\n     <use style=\"fill:#1f77b4;stroke:#1f77b4;\" x=\"339.516876\" xlink:href=\"#mbf1dad23c3\" y=\"30.117003\"/>\n     <use style=\"fill:#1f77b4;stroke:#1f77b4;\" x=\"346.369046\" xlink:href=\"#mbf1dad23c3\" y=\"29.030889\"/>\n     <use style=\"fill:#1f77b4;stroke:#1f77b4;\" x=\"326.51343\" xlink:href=\"#mbf1dad23c3\" y=\"27.944775\"/>\n     <use style=\"fill:#1f77b4;stroke:#1f77b4;\" x=\"232.040167\" xlink:href=\"#mbf1dad23c3\" y=\"26.858661\"/>\n     <use style=\"fill:#1f77b4;stroke:#1f77b4;\" x=\"229.199698\" xlink:href=\"#mbf1dad23c3\" y=\"25.772547\"/>\n     <use style=\"fill:#1f77b4;stroke:#1f77b4;\" x=\"247.681191\" xlink:href=\"#mbf1dad23c3\" y=\"24.686434\"/>\n     <use style=\"fill:#1f77b4;stroke:#1f77b4;\" x=\"256.765159\" xlink:href=\"#mbf1dad23c3\" y=\"23.60032\"/>\n     <use style=\"fill:#1f77b4;stroke:#1f77b4;\" x=\"320.417488\" xlink:href=\"#mbf1dad23c3\" y=\"22.514206\"/>\n     <use style=\"fill:#1f77b4;stroke:#1f77b4;\" x=\"313.971099\" xlink:href=\"#mbf1dad23c3\" y=\"21.428092\"/>\n     <use style=\"fill:#1f77b4;stroke:#1f77b4;\" x=\"332.0837\" xlink:href=\"#mbf1dad23c3\" y=\"20.341978\"/>\n     <use style=\"fill:#1f77b4;stroke:#1f77b4;\" x=\"241.594472\" xlink:href=\"#mbf1dad23c3\" y=\"19.255864\"/>\n     <use style=\"fill:#1f77b4;stroke:#1f77b4;\" x=\"237.398325\" xlink:href=\"#mbf1dad23c3\" y=\"18.16975\"/>\n     <use style=\"fill:#1f77b4;stroke:#1f77b4;\" x=\"276.408662\" xlink:href=\"#mbf1dad23c3\" y=\"17.083636\"/>\n    </g>\n   </g>\n   <g id=\"matplotlib.axis_1\">\n    <g id=\"xtick_1\">\n     <g id=\"line2d_1\">\n      <defs>\n       <path d=\"M 0 0 \nL 0 3.5 \n\" id=\"me6a2f744f1\" style=\"stroke:#000000;stroke-width:0.8;\"/>\n      </defs>\n      <g>\n       <use style=\"stroke:#000000;stroke-width:0.8;\" x=\"60.320902\" xlink:href=\"#me6a2f744f1\" y=\"224.64\"/>\n      </g>\n     </g>\n     <g id=\"text_1\">\n      <!-- 10000 -->\n      <defs>\n       <path d=\"M 12.40625 8.296875 \nL 28.515625 8.296875 \nL 28.515625 63.921875 \nL 10.984375 60.40625 \nL 10.984375 69.390625 \nL 28.421875 72.90625 \nL 38.28125 72.90625 \nL 38.28125 8.296875 \nL 54.390625 8.296875 \nL 54.390625 0 \nL 12.40625 0 \nz\n\" id=\"DejaVuSans-49\"/>\n       <path d=\"M 31.78125 66.40625 \nQ 24.171875 66.40625 20.328125 58.90625 \nQ 16.5 51.421875 16.5 36.375 \nQ 16.5 21.390625 20.328125 13.890625 \nQ 24.171875 6.390625 31.78125 6.390625 \nQ 39.453125 6.390625 43.28125 13.890625 \nQ 47.125 21.390625 47.125 36.375 \nQ 47.125 51.421875 43.28125 58.90625 \nQ 39.453125 66.40625 31.78125 66.40625 \nz\nM 31.78125 74.21875 \nQ 44.046875 74.21875 50.515625 64.515625 \nQ 56.984375 54.828125 56.984375 36.375 \nQ 56.984375 17.96875 50.515625 8.265625 \nQ 44.046875 -1.421875 31.78125 -1.421875 \nQ 19.53125 -1.421875 13.0625 8.265625 \nQ 6.59375 17.96875 6.59375 36.375 \nQ 6.59375 54.828125 13.0625 64.515625 \nQ 19.53125 74.21875 31.78125 74.21875 \nz\n\" id=\"DejaVuSans-48\"/>\n      </defs>\n      <g transform=\"translate(44.414652 239.238437)scale(0.1 -0.1)\">\n       <use xlink:href=\"#DejaVuSans-49\"/>\n       <use x=\"63.623047\" xlink:href=\"#DejaVuSans-48\"/>\n       <use x=\"127.246094\" xlink:href=\"#DejaVuSans-48\"/>\n       <use x=\"190.869141\" xlink:href=\"#DejaVuSans-48\"/>\n       <use x=\"254.492188\" xlink:href=\"#DejaVuSans-48\"/>\n      </g>\n     </g>\n    </g>\n    <g id=\"xtick_2\">\n     <g id=\"line2d_2\">\n      <g>\n       <use style=\"stroke:#000000;stroke-width:0.8;\" x=\"106.432412\" xlink:href=\"#me6a2f744f1\" y=\"224.64\"/>\n      </g>\n     </g>\n     <g id=\"text_2\">\n      <!-- 15000 -->\n      <defs>\n       <path d=\"M 10.796875 72.90625 \nL 49.515625 72.90625 \nL 49.515625 64.59375 \nL 19.828125 64.59375 \nL 19.828125 46.734375 \nQ 21.96875 47.46875 24.109375 47.828125 \nQ 26.265625 48.1875 28.421875 48.1875 \nQ 40.625 48.1875 47.75 41.5 \nQ 54.890625 34.8125 54.890625 23.390625 \nQ 54.890625 11.625 47.5625 5.09375 \nQ 40.234375 -1.421875 26.90625 -1.421875 \nQ 22.3125 -1.421875 17.546875 -0.640625 \nQ 12.796875 0.140625 7.71875 1.703125 \nL 7.71875 11.625 \nQ 12.109375 9.234375 16.796875 8.0625 \nQ 21.484375 6.890625 26.703125 6.890625 \nQ 35.15625 6.890625 40.078125 11.328125 \nQ 45.015625 15.765625 45.015625 23.390625 \nQ 45.015625 31 40.078125 35.4375 \nQ 35.15625 39.890625 26.703125 39.890625 \nQ 22.75 39.890625 18.8125 39.015625 \nQ 14.890625 38.140625 10.796875 36.28125 \nz\n\" id=\"DejaVuSans-53\"/>\n      </defs>\n      <g transform=\"translate(90.526162 239.238437)scale(0.1 -0.1)\">\n       <use xlink:href=\"#DejaVuSans-49\"/>\n       <use x=\"63.623047\" xlink:href=\"#DejaVuSans-53\"/>\n       <use x=\"127.246094\" xlink:href=\"#DejaVuSans-48\"/>\n       <use x=\"190.869141\" xlink:href=\"#DejaVuSans-48\"/>\n       <use x=\"254.492188\" xlink:href=\"#DejaVuSans-48\"/>\n      </g>\n     </g>\n    </g>\n    <g id=\"xtick_3\">\n     <g id=\"line2d_3\">\n      <g>\n       <use style=\"stroke:#000000;stroke-width:0.8;\" x=\"152.543923\" xlink:href=\"#me6a2f744f1\" y=\"224.64\"/>\n      </g>\n     </g>\n     <g id=\"text_3\">\n      <!-- 20000 -->\n      <defs>\n       <path d=\"M 19.1875 8.296875 \nL 53.609375 8.296875 \nL 53.609375 0 \nL 7.328125 0 \nL 7.328125 8.296875 \nQ 12.9375 14.109375 22.625 23.890625 \nQ 32.328125 33.6875 34.8125 36.53125 \nQ 39.546875 41.84375 41.421875 45.53125 \nQ 43.3125 49.21875 43.3125 52.78125 \nQ 43.3125 58.59375 39.234375 62.25 \nQ 35.15625 65.921875 28.609375 65.921875 \nQ 23.96875 65.921875 18.8125 64.3125 \nQ 13.671875 62.703125 7.8125 59.421875 \nL 7.8125 69.390625 \nQ 13.765625 71.78125 18.9375 73 \nQ 24.125 74.21875 28.421875 74.21875 \nQ 39.75 74.21875 46.484375 68.546875 \nQ 53.21875 62.890625 53.21875 53.421875 \nQ 53.21875 48.921875 51.53125 44.890625 \nQ 49.859375 40.875 45.40625 35.40625 \nQ 44.1875 33.984375 37.640625 27.21875 \nQ 31.109375 20.453125 19.1875 8.296875 \nz\n\" id=\"DejaVuSans-50\"/>\n      </defs>\n      <g transform=\"translate(136.637673 239.238437)scale(0.1 -0.1)\">\n       <use xlink:href=\"#DejaVuSans-50\"/>\n       <use x=\"63.623047\" xlink:href=\"#DejaVuSans-48\"/>\n       <use x=\"127.246094\" xlink:href=\"#DejaVuSans-48\"/>\n       <use x=\"190.869141\" xlink:href=\"#DejaVuSans-48\"/>\n       <use x=\"254.492188\" xlink:href=\"#DejaVuSans-48\"/>\n      </g>\n     </g>\n    </g>\n    <g id=\"xtick_4\">\n     <g id=\"line2d_4\">\n      <g>\n       <use style=\"stroke:#000000;stroke-width:0.8;\" x=\"198.655433\" xlink:href=\"#me6a2f744f1\" y=\"224.64\"/>\n      </g>\n     </g>\n     <g id=\"text_4\">\n      <!-- 25000 -->\n      <g transform=\"translate(182.749183 239.238437)scale(0.1 -0.1)\">\n       <use xlink:href=\"#DejaVuSans-50\"/>\n       <use x=\"63.623047\" xlink:href=\"#DejaVuSans-53\"/>\n       <use x=\"127.246094\" xlink:href=\"#DejaVuSans-48\"/>\n       <use x=\"190.869141\" xlink:href=\"#DejaVuSans-48\"/>\n       <use x=\"254.492188\" xlink:href=\"#DejaVuSans-48\"/>\n      </g>\n     </g>\n    </g>\n    <g id=\"xtick_5\">\n     <g id=\"line2d_5\">\n      <g>\n       <use style=\"stroke:#000000;stroke-width:0.8;\" x=\"244.766944\" xlink:href=\"#me6a2f744f1\" y=\"224.64\"/>\n      </g>\n     </g>\n     <g id=\"text_5\">\n      <!-- 30000 -->\n      <defs>\n       <path d=\"M 40.578125 39.3125 \nQ 47.65625 37.796875 51.625 33 \nQ 55.609375 28.21875 55.609375 21.1875 \nQ 55.609375 10.40625 48.1875 4.484375 \nQ 40.765625 -1.421875 27.09375 -1.421875 \nQ 22.515625 -1.421875 17.65625 -0.515625 \nQ 12.796875 0.390625 7.625 2.203125 \nL 7.625 11.71875 \nQ 11.71875 9.328125 16.59375 8.109375 \nQ 21.484375 6.890625 26.8125 6.890625 \nQ 36.078125 6.890625 40.9375 10.546875 \nQ 45.796875 14.203125 45.796875 21.1875 \nQ 45.796875 27.640625 41.28125 31.265625 \nQ 36.765625 34.90625 28.71875 34.90625 \nL 20.21875 34.90625 \nL 20.21875 43.015625 \nL 29.109375 43.015625 \nQ 36.375 43.015625 40.234375 45.921875 \nQ 44.09375 48.828125 44.09375 54.296875 \nQ 44.09375 59.90625 40.109375 62.90625 \nQ 36.140625 65.921875 28.71875 65.921875 \nQ 24.65625 65.921875 20.015625 65.03125 \nQ 15.375 64.15625 9.8125 62.3125 \nL 9.8125 71.09375 \nQ 15.4375 72.65625 20.34375 73.4375 \nQ 25.25 74.21875 29.59375 74.21875 \nQ 40.828125 74.21875 47.359375 69.109375 \nQ 53.90625 64.015625 53.90625 55.328125 \nQ 53.90625 49.265625 50.4375 45.09375 \nQ 46.96875 40.921875 40.578125 39.3125 \nz\n\" id=\"DejaVuSans-51\"/>\n      </defs>\n      <g transform=\"translate(228.860694 239.238437)scale(0.1 -0.1)\">\n       <use xlink:href=\"#DejaVuSans-51\"/>\n       <use x=\"63.623047\" xlink:href=\"#DejaVuSans-48\"/>\n       <use x=\"127.246094\" xlink:href=\"#DejaVuSans-48\"/>\n       <use x=\"190.869141\" xlink:href=\"#DejaVuSans-48\"/>\n       <use x=\"254.492188\" xlink:href=\"#DejaVuSans-48\"/>\n      </g>\n     </g>\n    </g>\n    <g id=\"xtick_6\">\n     <g id=\"line2d_6\">\n      <g>\n       <use style=\"stroke:#000000;stroke-width:0.8;\" x=\"290.878454\" xlink:href=\"#me6a2f744f1\" y=\"224.64\"/>\n      </g>\n     </g>\n     <g id=\"text_6\">\n      <!-- 35000 -->\n      <g transform=\"translate(274.972204 239.238437)scale(0.1 -0.1)\">\n       <use xlink:href=\"#DejaVuSans-51\"/>\n       <use x=\"63.623047\" xlink:href=\"#DejaVuSans-53\"/>\n       <use x=\"127.246094\" xlink:href=\"#DejaVuSans-48\"/>\n       <use x=\"190.869141\" xlink:href=\"#DejaVuSans-48\"/>\n       <use x=\"254.492188\" xlink:href=\"#DejaVuSans-48\"/>\n      </g>\n     </g>\n    </g>\n    <g id=\"xtick_7\">\n     <g id=\"line2d_7\">\n      <g>\n       <use style=\"stroke:#000000;stroke-width:0.8;\" x=\"336.989965\" xlink:href=\"#me6a2f744f1\" y=\"224.64\"/>\n      </g>\n     </g>\n     <g id=\"text_7\">\n      <!-- 40000 -->\n      <defs>\n       <path d=\"M 37.796875 64.3125 \nL 12.890625 25.390625 \nL 37.796875 25.390625 \nz\nM 35.203125 72.90625 \nL 47.609375 72.90625 \nL 47.609375 25.390625 \nL 58.015625 25.390625 \nL 58.015625 17.1875 \nL 47.609375 17.1875 \nL 47.609375 0 \nL 37.796875 0 \nL 37.796875 17.1875 \nL 4.890625 17.1875 \nL 4.890625 26.703125 \nz\n\" id=\"DejaVuSans-52\"/>\n      </defs>\n      <g transform=\"translate(321.083715 239.238437)scale(0.1 -0.1)\">\n       <use xlink:href=\"#DejaVuSans-52\"/>\n       <use x=\"63.623047\" xlink:href=\"#DejaVuSans-48\"/>\n       <use x=\"127.246094\" xlink:href=\"#DejaVuSans-48\"/>\n       <use x=\"190.869141\" xlink:href=\"#DejaVuSans-48\"/>\n       <use x=\"254.492188\" xlink:href=\"#DejaVuSans-48\"/>\n      </g>\n     </g>\n    </g>\n    <g id=\"text_8\">\n     <!-- Count -->\n     <defs>\n      <path d=\"M 64.40625 67.28125 \nL 64.40625 56.890625 \nQ 59.421875 61.53125 53.78125 63.8125 \nQ 48.140625 66.109375 41.796875 66.109375 \nQ 29.296875 66.109375 22.65625 58.46875 \nQ 16.015625 50.828125 16.015625 36.375 \nQ 16.015625 21.96875 22.65625 14.328125 \nQ 29.296875 6.6875 41.796875 6.6875 \nQ 48.140625 6.6875 53.78125 8.984375 \nQ 59.421875 11.28125 64.40625 15.921875 \nL 64.40625 5.609375 \nQ 59.234375 2.09375 53.4375 0.328125 \nQ 47.65625 -1.421875 41.21875 -1.421875 \nQ 24.65625 -1.421875 15.125 8.703125 \nQ 5.609375 18.84375 5.609375 36.375 \nQ 5.609375 53.953125 15.125 64.078125 \nQ 24.65625 74.21875 41.21875 74.21875 \nQ 47.75 74.21875 53.53125 72.484375 \nQ 59.328125 70.75 64.40625 67.28125 \nz\n\" id=\"DejaVuSans-67\"/>\n      <path d=\"M 30.609375 48.390625 \nQ 23.390625 48.390625 19.1875 42.75 \nQ 14.984375 37.109375 14.984375 27.296875 \nQ 14.984375 17.484375 19.15625 11.84375 \nQ 23.34375 6.203125 30.609375 6.203125 \nQ 37.796875 6.203125 41.984375 11.859375 \nQ 46.1875 17.53125 46.1875 27.296875 \nQ 46.1875 37.015625 41.984375 42.703125 \nQ 37.796875 48.390625 30.609375 48.390625 \nz\nM 30.609375 56 \nQ 42.328125 56 49.015625 48.375 \nQ 55.71875 40.765625 55.71875 27.296875 \nQ 55.71875 13.875 49.015625 6.21875 \nQ 42.328125 -1.421875 30.609375 -1.421875 \nQ 18.84375 -1.421875 12.171875 6.21875 \nQ 5.515625 13.875 5.515625 27.296875 \nQ 5.515625 40.765625 12.171875 48.375 \nQ 18.84375 56 30.609375 56 \nz\n\" id=\"DejaVuSans-111\"/>\n      <path d=\"M 8.5 21.578125 \nL 8.5 54.6875 \nL 17.484375 54.6875 \nL 17.484375 21.921875 \nQ 17.484375 14.15625 20.5 10.265625 \nQ 23.53125 6.390625 29.59375 6.390625 \nQ 36.859375 6.390625 41.078125 11.03125 \nQ 45.3125 15.671875 45.3125 23.6875 \nL 45.3125 54.6875 \nL 54.296875 54.6875 \nL 54.296875 0 \nL 45.3125 0 \nL 45.3125 8.40625 \nQ 42.046875 3.421875 37.71875 1 \nQ 33.40625 -1.421875 27.6875 -1.421875 \nQ 18.265625 -1.421875 13.375 4.4375 \nQ 8.5 10.296875 8.5 21.578125 \nz\nM 31.109375 56 \nz\n\" id=\"DejaVuSans-117\"/>\n      <path d=\"M 54.890625 33.015625 \nL 54.890625 0 \nL 45.90625 0 \nL 45.90625 32.71875 \nQ 45.90625 40.484375 42.875 44.328125 \nQ 39.84375 48.1875 33.796875 48.1875 \nQ 26.515625 48.1875 22.3125 43.546875 \nQ 18.109375 38.921875 18.109375 30.90625 \nL 18.109375 0 \nL 9.078125 0 \nL 9.078125 54.6875 \nL 18.109375 54.6875 \nL 18.109375 46.1875 \nQ 21.34375 51.125 25.703125 53.5625 \nQ 30.078125 56 35.796875 56 \nQ 45.21875 56 50.046875 50.171875 \nQ 54.890625 44.34375 54.890625 33.015625 \nz\n\" id=\"DejaVuSans-110\"/>\n      <path d=\"M 18.3125 70.21875 \nL 18.3125 54.6875 \nL 36.8125 54.6875 \nL 36.8125 47.703125 \nL 18.3125 47.703125 \nL 18.3125 18.015625 \nQ 18.3125 11.328125 20.140625 9.421875 \nQ 21.96875 7.515625 27.59375 7.515625 \nL 36.8125 7.515625 \nL 36.8125 0 \nL 27.59375 0 \nQ 17.1875 0 13.234375 3.875 \nQ 9.28125 7.765625 9.28125 18.015625 \nL 9.28125 47.703125 \nL 2.6875 47.703125 \nL 2.6875 54.6875 \nL 9.28125 54.6875 \nL 9.28125 70.21875 \nz\n\" id=\"DejaVuSans-116\"/>\n     </defs>\n     <g transform=\"translate(199.517188 252.916562)scale(0.1 -0.1)\">\n      <use xlink:href=\"#DejaVuSans-67\"/>\n      <use x=\"69.824219\" xlink:href=\"#DejaVuSans-111\"/>\n      <use x=\"131.005859\" xlink:href=\"#DejaVuSans-117\"/>\n      <use x=\"194.384766\" xlink:href=\"#DejaVuSans-110\"/>\n      <use x=\"257.763672\" xlink:href=\"#DejaVuSans-116\"/>\n     </g>\n    </g>\n   </g>\n   <g id=\"matplotlib.axis_2\">\n    <g id=\"ytick_1\">\n     <g id=\"line2d_8\">\n      <defs>\n       <path d=\"M 0 0 \nL -3.5 0 \n\" id=\"mdd26b47244\" style=\"stroke:#000000;stroke-width:0.8;\"/>\n      </defs>\n      <g>\n       <use style=\"stroke:#000000;stroke-width:0.8;\" x=\"46.965625\" xlink:href=\"#mdd26b47244\" y=\"214.756364\"/>\n      </g>\n     </g>\n     <g id=\"text_9\">\n      <!-- 0 -->\n      <g transform=\"translate(33.603125 218.555582)scale(0.1 -0.1)\">\n       <use xlink:href=\"#DejaVuSans-48\"/>\n      </g>\n     </g>\n    </g>\n    <g id=\"ytick_2\">\n     <g id=\"line2d_9\">\n      <g>\n       <use style=\"stroke:#000000;stroke-width:0.8;\" x=\"46.965625\" xlink:href=\"#mdd26b47244\" y=\"187.603516\"/>\n      </g>\n     </g>\n     <g id=\"text_10\">\n      <!-- 25 -->\n      <g transform=\"translate(27.240625 191.402735)scale(0.1 -0.1)\">\n       <use xlink:href=\"#DejaVuSans-50\"/>\n       <use x=\"63.623047\" xlink:href=\"#DejaVuSans-53\"/>\n      </g>\n     </g>\n    </g>\n    <g id=\"ytick_3\">\n     <g id=\"line2d_10\">\n      <g>\n       <use style=\"stroke:#000000;stroke-width:0.8;\" x=\"46.965625\" xlink:href=\"#mdd26b47244\" y=\"160.450669\"/>\n      </g>\n     </g>\n     <g id=\"text_11\">\n      <!-- 50 -->\n      <g transform=\"translate(27.240625 164.249888)scale(0.1 -0.1)\">\n       <use xlink:href=\"#DejaVuSans-53\"/>\n       <use x=\"63.623047\" xlink:href=\"#DejaVuSans-48\"/>\n      </g>\n     </g>\n    </g>\n    <g id=\"ytick_4\">\n     <g id=\"line2d_11\">\n      <g>\n       <use style=\"stroke:#000000;stroke-width:0.8;\" x=\"46.965625\" xlink:href=\"#mdd26b47244\" y=\"133.297822\"/>\n      </g>\n     </g>\n     <g id=\"text_12\">\n      <!-- 75 -->\n      <defs>\n       <path d=\"M 8.203125 72.90625 \nL 55.078125 72.90625 \nL 55.078125 68.703125 \nL 28.609375 0 \nL 18.3125 0 \nL 43.21875 64.59375 \nL 8.203125 64.59375 \nz\n\" id=\"DejaVuSans-55\"/>\n      </defs>\n      <g transform=\"translate(27.240625 137.097041)scale(0.1 -0.1)\">\n       <use xlink:href=\"#DejaVuSans-55\"/>\n       <use x=\"63.623047\" xlink:href=\"#DejaVuSans-53\"/>\n      </g>\n     </g>\n    </g>\n    <g id=\"ytick_5\">\n     <g id=\"line2d_12\">\n      <g>\n       <use style=\"stroke:#000000;stroke-width:0.8;\" x=\"46.965625\" xlink:href=\"#mdd26b47244\" y=\"106.144975\"/>\n      </g>\n     </g>\n     <g id=\"text_13\">\n      <!-- 100 -->\n      <g transform=\"translate(20.878125 109.944194)scale(0.1 -0.1)\">\n       <use xlink:href=\"#DejaVuSans-49\"/>\n       <use x=\"63.623047\" xlink:href=\"#DejaVuSans-48\"/>\n       <use x=\"127.246094\" xlink:href=\"#DejaVuSans-48\"/>\n      </g>\n     </g>\n    </g>\n    <g id=\"ytick_6\">\n     <g id=\"line2d_13\">\n      <g>\n       <use style=\"stroke:#000000;stroke-width:0.8;\" x=\"46.965625\" xlink:href=\"#mdd26b47244\" y=\"78.992128\"/>\n      </g>\n     </g>\n     <g id=\"text_14\">\n      <!-- 125 -->\n      <g transform=\"translate(20.878125 82.791347)scale(0.1 -0.1)\">\n       <use xlink:href=\"#DejaVuSans-49\"/>\n       <use x=\"63.623047\" xlink:href=\"#DejaVuSans-50\"/>\n       <use x=\"127.246094\" xlink:href=\"#DejaVuSans-53\"/>\n      </g>\n     </g>\n    </g>\n    <g id=\"ytick_7\">\n     <g id=\"line2d_14\">\n      <g>\n       <use style=\"stroke:#000000;stroke-width:0.8;\" x=\"46.965625\" xlink:href=\"#mdd26b47244\" y=\"51.839281\"/>\n      </g>\n     </g>\n     <g id=\"text_15\">\n      <!-- 150 -->\n      <g transform=\"translate(20.878125 55.638499)scale(0.1 -0.1)\">\n       <use xlink:href=\"#DejaVuSans-49\"/>\n       <use x=\"63.623047\" xlink:href=\"#DejaVuSans-53\"/>\n       <use x=\"127.246094\" xlink:href=\"#DejaVuSans-48\"/>\n      </g>\n     </g>\n    </g>\n    <g id=\"ytick_8\">\n     <g id=\"line2d_15\">\n      <g>\n       <use style=\"stroke:#000000;stroke-width:0.8;\" x=\"46.965625\" xlink:href=\"#mdd26b47244\" y=\"24.686434\"/>\n      </g>\n     </g>\n     <g id=\"text_16\">\n      <!-- 175 -->\n      <g transform=\"translate(20.878125 28.485652)scale(0.1 -0.1)\">\n       <use xlink:href=\"#DejaVuSans-49\"/>\n       <use x=\"63.623047\" xlink:href=\"#DejaVuSans-55\"/>\n       <use x=\"127.246094\" xlink:href=\"#DejaVuSans-53\"/>\n      </g>\n     </g>\n    </g>\n    <g id=\"text_17\">\n     <!-- Days -->\n     <defs>\n      <path d=\"M 19.671875 64.796875 \nL 19.671875 8.109375 \nL 31.59375 8.109375 \nQ 46.6875 8.109375 53.6875 14.9375 \nQ 60.6875 21.78125 60.6875 36.53125 \nQ 60.6875 51.171875 53.6875 57.984375 \nQ 46.6875 64.796875 31.59375 64.796875 \nz\nM 9.8125 72.90625 \nL 30.078125 72.90625 \nQ 51.265625 72.90625 61.171875 64.09375 \nQ 71.09375 55.28125 71.09375 36.53125 \nQ 71.09375 17.671875 61.125 8.828125 \nQ 51.171875 0 30.078125 0 \nL 9.8125 0 \nz\n\" id=\"DejaVuSans-68\"/>\n      <path d=\"M 34.28125 27.484375 \nQ 23.390625 27.484375 19.1875 25 \nQ 14.984375 22.515625 14.984375 16.5 \nQ 14.984375 11.71875 18.140625 8.90625 \nQ 21.296875 6.109375 26.703125 6.109375 \nQ 34.1875 6.109375 38.703125 11.40625 \nQ 43.21875 16.703125 43.21875 25.484375 \nL 43.21875 27.484375 \nz\nM 52.203125 31.203125 \nL 52.203125 0 \nL 43.21875 0 \nL 43.21875 8.296875 \nQ 40.140625 3.328125 35.546875 0.953125 \nQ 30.953125 -1.421875 24.3125 -1.421875 \nQ 15.921875 -1.421875 10.953125 3.296875 \nQ 6 8.015625 6 15.921875 \nQ 6 25.140625 12.171875 29.828125 \nQ 18.359375 34.515625 30.609375 34.515625 \nL 43.21875 34.515625 \nL 43.21875 35.40625 \nQ 43.21875 41.609375 39.140625 45 \nQ 35.0625 48.390625 27.6875 48.390625 \nQ 23 48.390625 18.546875 47.265625 \nQ 14.109375 46.140625 10.015625 43.890625 \nL 10.015625 52.203125 \nQ 14.9375 54.109375 19.578125 55.046875 \nQ 24.21875 56 28.609375 56 \nQ 40.484375 56 46.34375 49.84375 \nQ 52.203125 43.703125 52.203125 31.203125 \nz\n\" id=\"DejaVuSans-97\"/>\n      <path d=\"M 32.171875 -5.078125 \nQ 28.375 -14.84375 24.75 -17.8125 \nQ 21.140625 -20.796875 15.09375 -20.796875 \nL 7.90625 -20.796875 \nL 7.90625 -13.28125 \nL 13.1875 -13.28125 \nQ 16.890625 -13.28125 18.9375 -11.515625 \nQ 21 -9.765625 23.484375 -3.21875 \nL 25.09375 0.875 \nL 2.984375 54.6875 \nL 12.5 54.6875 \nL 29.59375 11.921875 \nL 46.6875 54.6875 \nL 56.203125 54.6875 \nz\n\" id=\"DejaVuSans-121\"/>\n      <path d=\"M 44.28125 53.078125 \nL 44.28125 44.578125 \nQ 40.484375 46.53125 36.375 47.5 \nQ 32.28125 48.484375 27.875 48.484375 \nQ 21.1875 48.484375 17.84375 46.4375 \nQ 14.5 44.390625 14.5 40.28125 \nQ 14.5 37.15625 16.890625 35.375 \nQ 19.28125 33.59375 26.515625 31.984375 \nL 29.59375 31.296875 \nQ 39.15625 29.25 43.1875 25.515625 \nQ 47.21875 21.78125 47.21875 15.09375 \nQ 47.21875 7.46875 41.1875 3.015625 \nQ 35.15625 -1.421875 24.609375 -1.421875 \nQ 20.21875 -1.421875 15.453125 -0.5625 \nQ 10.6875 0.296875 5.421875 2 \nL 5.421875 11.28125 \nQ 10.40625 8.6875 15.234375 7.390625 \nQ 20.0625 6.109375 24.8125 6.109375 \nQ 31.15625 6.109375 34.5625 8.28125 \nQ 37.984375 10.453125 37.984375 14.40625 \nQ 37.984375 18.0625 35.515625 20.015625 \nQ 33.0625 21.96875 24.703125 23.78125 \nL 21.578125 24.515625 \nQ 13.234375 26.265625 9.515625 29.90625 \nQ 5.8125 33.546875 5.8125 39.890625 \nQ 5.8125 47.609375 11.28125 51.796875 \nQ 16.75 56 26.8125 56 \nQ 31.78125 56 36.171875 55.265625 \nQ 40.578125 54.546875 44.28125 53.078125 \nz\n\" id=\"DejaVuSans-115\"/>\n     </defs>\n     <g transform=\"translate(14.798438 128.398125)rotate(-90)scale(0.1 -0.1)\">\n      <use xlink:href=\"#DejaVuSans-68\"/>\n      <use x=\"77.001953\" xlink:href=\"#DejaVuSans-97\"/>\n      <use x=\"138.28125\" xlink:href=\"#DejaVuSans-121\"/>\n      <use x=\"197.460938\" xlink:href=\"#DejaVuSans-115\"/>\n     </g>\n    </g>\n   </g>\n   <g id=\"patch_3\">\n    <path d=\"M 46.965625 224.64 \nL 46.965625 7.2 \n\" style=\"fill:none;stroke:#000000;stroke-linecap:square;stroke-linejoin:miter;stroke-width:0.8;\"/>\n   </g>\n   <g id=\"patch_4\">\n    <path d=\"M 381.765625 224.64 \nL 381.765625 7.2 \n\" style=\"fill:none;stroke:#000000;stroke-linecap:square;stroke-linejoin:miter;stroke-width:0.8;\"/>\n   </g>\n   <g id=\"patch_5\">\n    <path d=\"M 46.965625 224.64 \nL 381.765625 224.64 \n\" style=\"fill:none;stroke:#000000;stroke-linecap:square;stroke-linejoin:miter;stroke-width:0.8;\"/>\n   </g>\n   <g id=\"patch_6\">\n    <path d=\"M 46.965625 7.2 \nL 381.765625 7.2 \n\" style=\"fill:none;stroke:#000000;stroke-linecap:square;stroke-linejoin:miter;stroke-width:0.8;\"/>\n   </g>\n  </g>\n </g>\n <defs>\n  <clipPath id=\"pbd0f78b40a\">\n   <rect height=\"217.44\" width=\"334.8\" x=\"46.965625\" y=\"7.2\"/>\n  </clipPath>\n </defs>\n</svg>\n"
     },
     "metadata": {
      "needs_background": "light"
     }
    }
   ],
   "source": [
    "# Fixing variables for Logistic Rregression\n",
    "\n",
    "x = uber_14.groupby([(uber_14['Month']), (uber_14['Day'])])['Day'].count()\n",
    "data = {\n",
    "        'Date' : x.keys().to_numpy(),\n",
    "        'Days' : range(1, x.keys().size+1),\n",
    "        'Count' : x.values\n",
    "}\n",
    "uber_logistic = pd.DataFrame(data=data)\n",
    "uber_logistic.plot(kind='scatter', x='Count', y='Days')\n",
    "plot.show()"
   ]
  },
  {
   "cell_type": "code",
   "execution_count": 5,
   "metadata": {},
   "outputs": [
    {
     "output_type": "execute_result",
     "data": {
      "text/plain": "(48, 2)"
     },
     "metadata": {},
     "execution_count": 5
    }
   ],
   "source": [
    "# 20% data as test \n",
    "train, test = train_test_split(uber_logistic, test_size=0.2)\n",
    "train.shape\n",
    "#test.shape"
   ]
  },
  {
   "cell_type": "code",
   "execution_count": 6,
   "metadata": {},
   "outputs": [],
   "source": [
    "formula = \"Count ~ C(Date)\"\n",
    "y_train,x_train = patsy.dmatrices(formula, data=train,return_type='dataframe')\n",
    "y_test,x_test = patsy.dmatrices(formula, data=test,return_type='dataframe')"
   ]
  },
  {
   "cell_type": "code",
   "execution_count": 7,
   "metadata": {},
   "outputs": [
    {
     "output_type": "error",
     "ename": "ValueError",
     "evalue": "endog must be in the unit interval.",
     "traceback": [
      "\u001b[0;31m---------------------------------------------------------------------------\u001b[0m",
      "\u001b[0;31mValueError\u001b[0m                                Traceback (most recent call last)",
      "\u001b[0;32m<ipython-input-7-8174165a3ea1>\u001b[0m in \u001b[0;36m<module>\u001b[0;34m\u001b[0m\n\u001b[0;32m----> 1\u001b[0;31m \u001b[0mmodel\u001b[0m \u001b[0;34m=\u001b[0m \u001b[0msm\u001b[0m\u001b[0;34m.\u001b[0m\u001b[0mLogit\u001b[0m\u001b[0;34m(\u001b[0m\u001b[0my_train\u001b[0m\u001b[0;34m,\u001b[0m\u001b[0mx_train\u001b[0m\u001b[0;34m)\u001b[0m\u001b[0;34m\u001b[0m\u001b[0;34m\u001b[0m\u001b[0m\n\u001b[0m\u001b[1;32m      2\u001b[0m \u001b[0;34m\u001b[0m\u001b[0m\n\u001b[1;32m      3\u001b[0m \u001b[0mres\u001b[0m \u001b[0;34m=\u001b[0m \u001b[0mmodel\u001b[0m\u001b[0;34m.\u001b[0m\u001b[0mfit\u001b[0m\u001b[0;34m(\u001b[0m\u001b[0;34m)\u001b[0m\u001b[0;34m\u001b[0m\u001b[0;34m\u001b[0m\u001b[0m\n\u001b[1;32m      4\u001b[0m \u001b[0;34m\u001b[0m\u001b[0m\n\u001b[1;32m      5\u001b[0m \u001b[0mres\u001b[0m\u001b[0;34m.\u001b[0m\u001b[0msummary\u001b[0m\u001b[0;34m(\u001b[0m\u001b[0;34m)\u001b[0m\u001b[0;34m\u001b[0m\u001b[0;34m\u001b[0m\u001b[0m\n",
      "\u001b[0;32m~/.local/lib/python3.6/site-packages/statsmodels/discrete/discrete_model.py\u001b[0m in \u001b[0;36m__init__\u001b[0;34m(self, endog, exog, **kwargs)\u001b[0m\n\u001b[1;32m    435\u001b[0m         if (not issubclass(self.__class__, MultinomialModel) and\n\u001b[1;32m    436\u001b[0m                 not np.all((self.endog >= 0) & (self.endog <= 1))):\n\u001b[0;32m--> 437\u001b[0;31m             \u001b[0;32mraise\u001b[0m \u001b[0mValueError\u001b[0m\u001b[0;34m(\u001b[0m\u001b[0;34m\"endog must be in the unit interval.\"\u001b[0m\u001b[0;34m)\u001b[0m\u001b[0;34m\u001b[0m\u001b[0;34m\u001b[0m\u001b[0m\n\u001b[0m\u001b[1;32m    438\u001b[0m \u001b[0;34m\u001b[0m\u001b[0m\n\u001b[1;32m    439\u001b[0m \u001b[0;34m\u001b[0m\u001b[0m\n",
      "\u001b[0;31mValueError\u001b[0m: endog must be in the unit interval."
     ]
    }
   ],
   "source": [
    "model = sm.Logit(y_train,x_train) \n",
    "\n",
    "res = model.fit() \n",
    "\n",
    "res.summary()"
   ]
  },
  {
   "cell_type": "code",
   "execution_count": null,
   "metadata": {},
   "outputs": [],
   "source": []
  }
 ],
 "metadata": {
  "language_info": {
   "codemirror_mode": {
    "name": "ipython",
    "version": 2
   },
   "file_extension": ".py",
   "mimetype": "text/x-python",
   "name": "python",
   "nbconvert_exporter": "python",
   "pygments_lexer": "ipython2",
   "version": "3.6.9-final"
  },
  "orig_nbformat": 2,
  "kernelspec": {
   "name": "python36964bit5ab1caf800af4b3a85bbe547b3dbd3cb",
   "display_name": "Python 3.6.9 64-bit"
  }
 },
 "nbformat": 4,
 "nbformat_minor": 2
}