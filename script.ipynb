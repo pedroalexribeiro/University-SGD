{
 "cells": [
  {
   "cell_type": "code",
   "execution_count": 3,
   "metadata": {},
   "outputs": [],
   "source": [
    "# Dataset contains uber pickups in NYC from april to september 2014 and january to june 2015\n",
    "#Link:\n",
    "# easyjet.com/asp/EN/members/changeflightoptions.asp\n",
    "\n",
    "# Base ->  TLC licensed business that dispatches TLC licensed for-hire vehicles\n",
    "\n",
    "# Files we have\n",
    "\n",
    "#   1) uber-raw-data-Month14 -> 6 files (1 per month) containing the following information:\n",
    "\n",
    "#      Header\t        Definition\n",
    "#   Date/Time\t    The date and time of the Uber pickup\n",
    "#   Lat\t            The latitude of the Uber pickup\n",
    "#   Lon\t            The longitude of the Uber pickup\n",
    "#   Base\t        The TLC base company code affiliated with the Uber pickup\n",
    "\n",
    "\n",
    "#   2) uber-raw-data-janjune-15 contains the following information: \n",
    "\n",
    "#      Header\t                Definition\n",
    "# Dispatching_base_num\t    The TLC base company code of the base that dispatched the Uber\n",
    "# Pickup_date\t            The date and time of the Uber pickup\n",
    "# Affiliated_base_num\t    The TLC base company code affiliated with the Uber pickup\n",
    "# locationID\t            The pickup location ID affiliated with the Uber pickup\n",
    "\n",
    "# The Base codes are: \n",
    "# Base Code\t  Base Name\n",
    "# B02512\t    Unter\n",
    "# B02598\t    Hinter\n",
    "# B02617\t    Weiter\n",
    "# B02682\t    Schmecken\n",
    "# B02764\t    Danach-NY\n",
    "# B02765\t    Grun\n",
    "# B02835\t    Dreist\n",
    "# B02836\t    Drinnen\n",
    "\n",
    "#   3) Uber-jan-feb-FOIL contains the following information: \n",
    "# dispatching_base_number      date     active_vehicles        trips\n",
    "# B02512                     1/1/2015        190                1132\n",
    "# B02765                     1/1/2015        225                1765\n",
    "\n",
    "\n",
    "# Ha mais ficheiros de Taxis e outras TLCs.\n",
    "\n",
    "# Vou dividir agora 1 quadrado para cada coisa que deviamos fazer"
   ]
  },
  {
   "cell_type": "code",
   "execution_count": 1,
   "metadata": {},
   "outputs": [],
   "source": [
    "# Imports\n",
    "import pandas as pd\n",
    "import numpy as np\n"
   ]
  },
  {
   "cell_type": "code",
   "execution_count": 2,
   "metadata": {},
   "outputs": [],
   "source": [
    "# Reading dataset\n",
    "uber_april_14 = pd.read_csv('/home/francisco/Desktop/College/Mestrado/1º Ano/2o Semestre/SGD/Assignment3/uber-tlc-foil-response-master/uber-trip-data/uber-raw-data-apr14.csv')\n",
    "uber_may_14 = pd.read_csv('/home/francisco/Desktop/College/Mestrado/1º Ano/2o Semestre/SGD/Assignment3/uber-tlc-foil-response-master/uber-trip-data/uber-raw-data-may14.csv')\n",
    "uber_jun_14 = pd.read_csv('/home/francisco/Desktop/College/Mestrado/1º Ano/2o Semestre/SGD/Assignment3/uber-tlc-foil-response-master/uber-trip-data/uber-raw-data-jun14.csv')\n",
    "uber_jul_14 = pd.read_csv('/home/francisco/Desktop/College/Mestrado/1º Ano/2o Semestre/SGD/Assignment3/uber-tlc-foil-response-master/uber-trip-data/uber-raw-data-jul14.csv')\n",
    "uber_aug_14 = pd.read_csv('/home/francisco/Desktop/College/Mestrado/1º Ano/2o Semestre/SGD/Assignment3/uber-tlc-foil-response-master/uber-trip-data/uber-raw-data-aug14.csv')\n",
    "uber_sep_14 = pd.read_csv('/home/francisco/Desktop/College/Mestrado/1º Ano/2o Semestre/SGD/Assignment3/uber-tlc-foil-response-master/uber-trip-data/uber-raw-data-sep14.csv')"
   ]
  },
  {
   "cell_type": "code",
   "execution_count": 3,
   "metadata": {},
   "outputs": [],
   "source": [
    "# Merging all 6 months datasets\n",
    "\n",
    "uber_14 = pd.concat([uber_april_14, uber_may_14, uber_jun_14, uber_jul_14, uber_aug_14, uber_sep_14])"
   ]
  },
  {
   "cell_type": "code",
   "execution_count": 4,
   "metadata": {},
   "outputs": [],
   "source": [
    "uber_14['Date/Time'] = pd.to_datetime(uber_14['Date/Time'])\n",
    "\n",
    "uber_14['Month'] = uber_14['Date/Time'].dt.month\n",
    "uber_14['Day'] = uber_14['Date/Time'].dt.day\n",
    "uber_14['Hour'] = uber_14['Date/Time'].dt.hour\n",
    "uber_14['Week'] = uber_14['Date/Time'].dt.day_name()"
   ]
  },
  {
   "cell_type": "code",
   "execution_count": 71,
   "metadata": {},
   "outputs": [
    {
     "output_type": "execute_result",
     "data": {
      "text/plain": "           Date/Time     Lat     Lon    Base    Hour   Month     Day\nWeek                                                                \nFriday        741139  741139  741139  741139  741139  741139  741139\nMonday        541472  541472  541472  541472  541472  541472  541472\nSaturday      646114  646114  646114  646114  646114  646114  646114\nSunday        490180  490180  490180  490180  490180  490180  490180\nThursday      755145  755145  755145  755145  755145  755145  755145\nTuesday       663789  663789  663789  663789  663789  663789  663789\nWednesday     696488  696488  696488  696488  696488  696488  696488",
      "text/html": "<div>\n<style scoped>\n    .dataframe tbody tr th:only-of-type {\n        vertical-align: middle;\n    }\n\n    .dataframe tbody tr th {\n        vertical-align: top;\n    }\n\n    .dataframe thead th {\n        text-align: right;\n    }\n</style>\n<table border=\"1\" class=\"dataframe\">\n  <thead>\n    <tr style=\"text-align: right;\">\n      <th></th>\n      <th>Date/Time</th>\n      <th>Lat</th>\n      <th>Lon</th>\n      <th>Base</th>\n      <th>Hour</th>\n      <th>Month</th>\n      <th>Day</th>\n    </tr>\n    <tr>\n      <th>Week</th>\n      <th></th>\n      <th></th>\n      <th></th>\n      <th></th>\n      <th></th>\n      <th></th>\n      <th></th>\n    </tr>\n  </thead>\n  <tbody>\n    <tr>\n      <th>Friday</th>\n      <td>741139</td>\n      <td>741139</td>\n      <td>741139</td>\n      <td>741139</td>\n      <td>741139</td>\n      <td>741139</td>\n      <td>741139</td>\n    </tr>\n    <tr>\n      <th>Monday</th>\n      <td>541472</td>\n      <td>541472</td>\n      <td>541472</td>\n      <td>541472</td>\n      <td>541472</td>\n      <td>541472</td>\n      <td>541472</td>\n    </tr>\n    <tr>\n      <th>Saturday</th>\n      <td>646114</td>\n      <td>646114</td>\n      <td>646114</td>\n      <td>646114</td>\n      <td>646114</td>\n      <td>646114</td>\n      <td>646114</td>\n    </tr>\n    <tr>\n      <th>Sunday</th>\n      <td>490180</td>\n      <td>490180</td>\n      <td>490180</td>\n      <td>490180</td>\n      <td>490180</td>\n      <td>490180</td>\n      <td>490180</td>\n    </tr>\n    <tr>\n      <th>Thursday</th>\n      <td>755145</td>\n      <td>755145</td>\n      <td>755145</td>\n      <td>755145</td>\n      <td>755145</td>\n      <td>755145</td>\n      <td>755145</td>\n    </tr>\n    <tr>\n      <th>Tuesday</th>\n      <td>663789</td>\n      <td>663789</td>\n      <td>663789</td>\n      <td>663789</td>\n      <td>663789</td>\n      <td>663789</td>\n      <td>663789</td>\n    </tr>\n    <tr>\n      <th>Wednesday</th>\n      <td>696488</td>\n      <td>696488</td>\n      <td>696488</td>\n      <td>696488</td>\n      <td>696488</td>\n      <td>696488</td>\n      <td>696488</td>\n    </tr>\n  </tbody>\n</table>\n</div>"
     },
     "metadata": {},
     "execution_count": 71
    }
   ],
   "source": [
    "# Group by Days of week and count\n",
    "\n",
    "uber_14.groupby(uber_14['Week']).count()"
   ]
  },
  {
   "cell_type": "code",
   "execution_count": 72,
   "metadata": {},
   "outputs": [
    {
     "output_type": "execute_result",
     "data": {
      "text/plain": "        Date/Time      Lat      Lon     Hour    Month      Day     Week\nBase                                                                   \nB02512     205673   205673   205673   205673   205673   205673   205673\nB02598    1393113  1393113  1393113  1393113  1393113  1393113  1393113\nB02617    1458853  1458853  1458853  1458853  1458853  1458853  1458853\nB02682    1212789  1212789  1212789  1212789  1212789  1212789  1212789\nB02764     263899   263899   263899   263899   263899   263899   263899",
      "text/html": "<div>\n<style scoped>\n    .dataframe tbody tr th:only-of-type {\n        vertical-align: middle;\n    }\n\n    .dataframe tbody tr th {\n        vertical-align: top;\n    }\n\n    .dataframe thead th {\n        text-align: right;\n    }\n</style>\n<table border=\"1\" class=\"dataframe\">\n  <thead>\n    <tr style=\"text-align: right;\">\n      <th></th>\n      <th>Date/Time</th>\n      <th>Lat</th>\n      <th>Lon</th>\n      <th>Hour</th>\n      <th>Month</th>\n      <th>Day</th>\n      <th>Week</th>\n    </tr>\n    <tr>\n      <th>Base</th>\n      <th></th>\n      <th></th>\n      <th></th>\n      <th></th>\n      <th></th>\n      <th></th>\n      <th></th>\n    </tr>\n  </thead>\n  <tbody>\n    <tr>\n      <th>B02512</th>\n      <td>205673</td>\n      <td>205673</td>\n      <td>205673</td>\n      <td>205673</td>\n      <td>205673</td>\n      <td>205673</td>\n      <td>205673</td>\n    </tr>\n    <tr>\n      <th>B02598</th>\n      <td>1393113</td>\n      <td>1393113</td>\n      <td>1393113</td>\n      <td>1393113</td>\n      <td>1393113</td>\n      <td>1393113</td>\n      <td>1393113</td>\n    </tr>\n    <tr>\n      <th>B02617</th>\n      <td>1458853</td>\n      <td>1458853</td>\n      <td>1458853</td>\n      <td>1458853</td>\n      <td>1458853</td>\n      <td>1458853</td>\n      <td>1458853</td>\n    </tr>\n    <tr>\n      <th>B02682</th>\n      <td>1212789</td>\n      <td>1212789</td>\n      <td>1212789</td>\n      <td>1212789</td>\n      <td>1212789</td>\n      <td>1212789</td>\n      <td>1212789</td>\n    </tr>\n    <tr>\n      <th>B02764</th>\n      <td>263899</td>\n      <td>263899</td>\n      <td>263899</td>\n      <td>263899</td>\n      <td>263899</td>\n      <td>263899</td>\n      <td>263899</td>\n    </tr>\n  </tbody>\n</table>\n</div>"
     },
     "metadata": {},
     "execution_count": 72
    }
   ],
   "source": [
    "# Group by Base and Count\n",
    "uber_14.groupby(uber_14['Base']).count()"
   ]
  },
  {
   "cell_type": "code",
   "execution_count": 73,
   "metadata": {},
   "outputs": [
    {
     "output_type": "execute_result",
     "data": {
      "text/plain": "      Date/Time     Lat     Lon    Base   Month     Day    Week\nHour                                                           \n0        103836  103836  103836  103836  103836  103836  103836\n1         67227   67227   67227   67227   67227   67227   67227\n2         45865   45865   45865   45865   45865   45865   45865\n3         48287   48287   48287   48287   48287   48287   48287\n4         55230   55230   55230   55230   55230   55230   55230\n5         83939   83939   83939   83939   83939   83939   83939\n6        143213  143213  143213  143213  143213  143213  143213\n7        193094  193094  193094  193094  193094  193094  193094\n8        190504  190504  190504  190504  190504  190504  190504\n9        159967  159967  159967  159967  159967  159967  159967\n10       159148  159148  159148  159148  159148  159148  159148\n11       165703  165703  165703  165703  165703  165703  165703\n12       170452  170452  170452  170452  170452  170452  170452\n13       195877  195877  195877  195877  195877  195877  195877\n14       230625  230625  230625  230625  230625  230625  230625\n15       275466  275466  275466  275466  275466  275466  275466\n16       313400  313400  313400  313400  313400  313400  313400\n17       336190  336190  336190  336190  336190  336190  336190\n18       324679  324679  324679  324679  324679  324679  324679\n19       294513  294513  294513  294513  294513  294513  294513\n20       284604  284604  284604  284604  284604  284604  284604\n21       281460  281460  281460  281460  281460  281460  281460\n22       241858  241858  241858  241858  241858  241858  241858\n23       169190  169190  169190  169190  169190  169190  169190",
      "text/html": "<div>\n<style scoped>\n    .dataframe tbody tr th:only-of-type {\n        vertical-align: middle;\n    }\n\n    .dataframe tbody tr th {\n        vertical-align: top;\n    }\n\n    .dataframe thead th {\n        text-align: right;\n    }\n</style>\n<table border=\"1\" class=\"dataframe\">\n  <thead>\n    <tr style=\"text-align: right;\">\n      <th></th>\n      <th>Date/Time</th>\n      <th>Lat</th>\n      <th>Lon</th>\n      <th>Base</th>\n      <th>Month</th>\n      <th>Day</th>\n      <th>Week</th>\n    </tr>\n    <tr>\n      <th>Hour</th>\n      <th></th>\n      <th></th>\n      <th></th>\n      <th></th>\n      <th></th>\n      <th></th>\n      <th></th>\n    </tr>\n  </thead>\n  <tbody>\n    <tr>\n      <th>0</th>\n      <td>103836</td>\n      <td>103836</td>\n      <td>103836</td>\n      <td>103836</td>\n      <td>103836</td>\n      <td>103836</td>\n      <td>103836</td>\n    </tr>\n    <tr>\n      <th>1</th>\n      <td>67227</td>\n      <td>67227</td>\n      <td>67227</td>\n      <td>67227</td>\n      <td>67227</td>\n      <td>67227</td>\n      <td>67227</td>\n    </tr>\n    <tr>\n      <th>2</th>\n      <td>45865</td>\n      <td>45865</td>\n      <td>45865</td>\n      <td>45865</td>\n      <td>45865</td>\n      <td>45865</td>\n      <td>45865</td>\n    </tr>\n    <tr>\n      <th>3</th>\n      <td>48287</td>\n      <td>48287</td>\n      <td>48287</td>\n      <td>48287</td>\n      <td>48287</td>\n      <td>48287</td>\n      <td>48287</td>\n    </tr>\n    <tr>\n      <th>4</th>\n      <td>55230</td>\n      <td>55230</td>\n      <td>55230</td>\n      <td>55230</td>\n      <td>55230</td>\n      <td>55230</td>\n      <td>55230</td>\n    </tr>\n    <tr>\n      <th>5</th>\n      <td>83939</td>\n      <td>83939</td>\n      <td>83939</td>\n      <td>83939</td>\n      <td>83939</td>\n      <td>83939</td>\n      <td>83939</td>\n    </tr>\n    <tr>\n      <th>6</th>\n      <td>143213</td>\n      <td>143213</td>\n      <td>143213</td>\n      <td>143213</td>\n      <td>143213</td>\n      <td>143213</td>\n      <td>143213</td>\n    </tr>\n    <tr>\n      <th>7</th>\n      <td>193094</td>\n      <td>193094</td>\n      <td>193094</td>\n      <td>193094</td>\n      <td>193094</td>\n      <td>193094</td>\n      <td>193094</td>\n    </tr>\n    <tr>\n      <th>8</th>\n      <td>190504</td>\n      <td>190504</td>\n      <td>190504</td>\n      <td>190504</td>\n      <td>190504</td>\n      <td>190504</td>\n      <td>190504</td>\n    </tr>\n    <tr>\n      <th>9</th>\n      <td>159967</td>\n      <td>159967</td>\n      <td>159967</td>\n      <td>159967</td>\n      <td>159967</td>\n      <td>159967</td>\n      <td>159967</td>\n    </tr>\n    <tr>\n      <th>10</th>\n      <td>159148</td>\n      <td>159148</td>\n      <td>159148</td>\n      <td>159148</td>\n      <td>159148</td>\n      <td>159148</td>\n      <td>159148</td>\n    </tr>\n    <tr>\n      <th>11</th>\n      <td>165703</td>\n      <td>165703</td>\n      <td>165703</td>\n      <td>165703</td>\n      <td>165703</td>\n      <td>165703</td>\n      <td>165703</td>\n    </tr>\n    <tr>\n      <th>12</th>\n      <td>170452</td>\n      <td>170452</td>\n      <td>170452</td>\n      <td>170452</td>\n      <td>170452</td>\n      <td>170452</td>\n      <td>170452</td>\n    </tr>\n    <tr>\n      <th>13</th>\n      <td>195877</td>\n      <td>195877</td>\n      <td>195877</td>\n      <td>195877</td>\n      <td>195877</td>\n      <td>195877</td>\n      <td>195877</td>\n    </tr>\n    <tr>\n      <th>14</th>\n      <td>230625</td>\n      <td>230625</td>\n      <td>230625</td>\n      <td>230625</td>\n      <td>230625</td>\n      <td>230625</td>\n      <td>230625</td>\n    </tr>\n    <tr>\n      <th>15</th>\n      <td>275466</td>\n      <td>275466</td>\n      <td>275466</td>\n      <td>275466</td>\n      <td>275466</td>\n      <td>275466</td>\n      <td>275466</td>\n    </tr>\n    <tr>\n      <th>16</th>\n      <td>313400</td>\n      <td>313400</td>\n      <td>313400</td>\n      <td>313400</td>\n      <td>313400</td>\n      <td>313400</td>\n      <td>313400</td>\n    </tr>\n    <tr>\n      <th>17</th>\n      <td>336190</td>\n      <td>336190</td>\n      <td>336190</td>\n      <td>336190</td>\n      <td>336190</td>\n      <td>336190</td>\n      <td>336190</td>\n    </tr>\n    <tr>\n      <th>18</th>\n      <td>324679</td>\n      <td>324679</td>\n      <td>324679</td>\n      <td>324679</td>\n      <td>324679</td>\n      <td>324679</td>\n      <td>324679</td>\n    </tr>\n    <tr>\n      <th>19</th>\n      <td>294513</td>\n      <td>294513</td>\n      <td>294513</td>\n      <td>294513</td>\n      <td>294513</td>\n      <td>294513</td>\n      <td>294513</td>\n    </tr>\n    <tr>\n      <th>20</th>\n      <td>284604</td>\n      <td>284604</td>\n      <td>284604</td>\n      <td>284604</td>\n      <td>284604</td>\n      <td>284604</td>\n      <td>284604</td>\n    </tr>\n    <tr>\n      <th>21</th>\n      <td>281460</td>\n      <td>281460</td>\n      <td>281460</td>\n      <td>281460</td>\n      <td>281460</td>\n      <td>281460</td>\n      <td>281460</td>\n    </tr>\n    <tr>\n      <th>22</th>\n      <td>241858</td>\n      <td>241858</td>\n      <td>241858</td>\n      <td>241858</td>\n      <td>241858</td>\n      <td>241858</td>\n      <td>241858</td>\n    </tr>\n    <tr>\n      <th>23</th>\n      <td>169190</td>\n      <td>169190</td>\n      <td>169190</td>\n      <td>169190</td>\n      <td>169190</td>\n      <td>169190</td>\n      <td>169190</td>\n    </tr>\n  </tbody>\n</table>\n</div>"
     },
     "metadata": {},
     "execution_count": 73
    }
   ],
   "source": [
    "# Group by Hours of Day\n",
    "uber_14.groupby(uber_14['Hour']).count()"
   ]
  },
  {
   "cell_type": "code",
   "execution_count": 93,
   "metadata": {},
   "outputs": [
    {
     "output_type": "execute_result",
     "data": {
      "text/plain": "           Date/Time    Lat    Lon   Base   Hour   Week\nMonth Day                                              \n4     1        14546  14546  14546  14546  14546  14546\n      2        17474  17474  17474  17474  17474  17474\n      3        20701  20701  20701  20701  20701  20701\n      4        26714  26714  26714  26714  26714  26714\n      5        19521  19521  19521  19521  19521  19521\n      6        13445  13445  13445  13445  13445  13445\n      7        19550  19550  19550  19550  19550  19550\n      8        16188  16188  16188  16188  16188  16188\n      9        16843  16843  16843  16843  16843  16843\n      10       20041  20041  20041  20041  20041  20041\n      11       20420  20420  20420  20420  20420  20420\n      12       18170  18170  18170  18170  18170  18170\n      13       12112  12112  12112  12112  12112  12112\n      14       12674  12674  12674  12674  12674  12674\n      15       20641  20641  20641  20641  20641  20641\n      16       17717  17717  17717  17717  17717  17717\n      17       20973  20973  20973  20973  20973  20973\n      18       18074  18074  18074  18074  18074  18074\n      19       14602  14602  14602  14602  14602  14602\n      20       11017  11017  11017  11017  11017  11017\n      21       13162  13162  13162  13162  13162  13162\n      22       16975  16975  16975  16975  16975  16975\n      23       20346  20346  20346  20346  20346  20346\n      24       23352  23352  23352  23352  23352  23352\n      25       25095  25095  25095  25095  25095  25095\n      26       24925  24925  24925  24925  24925  24925\n      27       14677  14677  14677  14677  14677  14677\n      28       15475  15475  15475  15475  15475  15475\n      29       22835  22835  22835  22835  22835  22835\n      30       36251  36251  36251  36251  36251  36251\n...              ...    ...    ...    ...    ...    ...\n9     1        19961  19961  19961  19961  19961  19961\n      2        28831  28831  28831  28831  28831  28831\n      3        32631  32631  32631  32631  32631  32631\n      4        38360  38360  38360  38360  38360  38360\n      5        42319  42319  42319  42319  42319  42319\n      6        40520  40520  40520  40520  40520  40520\n      7        30134  30134  30134  30134  30134  30134\n      8        30360  30360  30360  30360  30360  30360\n      9        34560  34560  34560  34560  34560  34560\n      10       35910  35910  35910  35910  35910  35910\n      11       36439  36439  36439  36439  36439  36439\n      12       39540  39540  39540  39540  39540  39540\n      13       43205  43205  43205  43205  43205  43205\n      14       28122  28122  28122  28122  28122  28122\n      15       29454  29454  29454  29454  29454  29454\n      16       36092  36092  36092  36092  36092  36092\n      17       35531  35531  35531  35531  35531  35531\n      18       40274  40274  40274  40274  40274  40274\n      19       41017  41017  41017  41017  41017  41017\n      20       38864  38864  38864  38864  38864  38864\n      21       28620  28620  28620  28620  28620  28620\n      22       28312  28312  28312  28312  28312  28312\n      23       30316  30316  30316  30316  30316  30316\n      24       31301  31301  31301  31301  31301  31301\n      25       38203  38203  38203  38203  38203  38203\n      26       37504  37504  37504  37504  37504  37504\n      27       39468  39468  39468  39468  39468  39468\n      28       29656  29656  29656  29656  29656  29656\n      29       29201  29201  29201  29201  29201  29201\n      30       33431  33431  33431  33431  33431  33431\n\n[183 rows x 6 columns]",
      "text/html": "<div>\n<style scoped>\n    .dataframe tbody tr th:only-of-type {\n        vertical-align: middle;\n    }\n\n    .dataframe tbody tr th {\n        vertical-align: top;\n    }\n\n    .dataframe thead th {\n        text-align: right;\n    }\n</style>\n<table border=\"1\" class=\"dataframe\">\n  <thead>\n    <tr style=\"text-align: right;\">\n      <th></th>\n      <th></th>\n      <th>Date/Time</th>\n      <th>Lat</th>\n      <th>Lon</th>\n      <th>Base</th>\n      <th>Hour</th>\n      <th>Week</th>\n    </tr>\n    <tr>\n      <th>Month</th>\n      <th>Day</th>\n      <th></th>\n      <th></th>\n      <th></th>\n      <th></th>\n      <th></th>\n      <th></th>\n    </tr>\n  </thead>\n  <tbody>\n    <tr>\n      <th rowspan=\"30\" valign=\"top\">4</th>\n      <th>1</th>\n      <td>14546</td>\n      <td>14546</td>\n      <td>14546</td>\n      <td>14546</td>\n      <td>14546</td>\n      <td>14546</td>\n    </tr>\n    <tr>\n      <th>2</th>\n      <td>17474</td>\n      <td>17474</td>\n      <td>17474</td>\n      <td>17474</td>\n      <td>17474</td>\n      <td>17474</td>\n    </tr>\n    <tr>\n      <th>3</th>\n      <td>20701</td>\n      <td>20701</td>\n      <td>20701</td>\n      <td>20701</td>\n      <td>20701</td>\n      <td>20701</td>\n    </tr>\n    <tr>\n      <th>4</th>\n      <td>26714</td>\n      <td>26714</td>\n      <td>26714</td>\n      <td>26714</td>\n      <td>26714</td>\n      <td>26714</td>\n    </tr>\n    <tr>\n      <th>5</th>\n      <td>19521</td>\n      <td>19521</td>\n      <td>19521</td>\n      <td>19521</td>\n      <td>19521</td>\n      <td>19521</td>\n    </tr>\n    <tr>\n      <th>6</th>\n      <td>13445</td>\n      <td>13445</td>\n      <td>13445</td>\n      <td>13445</td>\n      <td>13445</td>\n      <td>13445</td>\n    </tr>\n    <tr>\n      <th>7</th>\n      <td>19550</td>\n      <td>19550</td>\n      <td>19550</td>\n      <td>19550</td>\n      <td>19550</td>\n      <td>19550</td>\n    </tr>\n    <tr>\n      <th>8</th>\n      <td>16188</td>\n      <td>16188</td>\n      <td>16188</td>\n      <td>16188</td>\n      <td>16188</td>\n      <td>16188</td>\n    </tr>\n    <tr>\n      <th>9</th>\n      <td>16843</td>\n      <td>16843</td>\n      <td>16843</td>\n      <td>16843</td>\n      <td>16843</td>\n      <td>16843</td>\n    </tr>\n    <tr>\n      <th>10</th>\n      <td>20041</td>\n      <td>20041</td>\n      <td>20041</td>\n      <td>20041</td>\n      <td>20041</td>\n      <td>20041</td>\n    </tr>\n    <tr>\n      <th>11</th>\n      <td>20420</td>\n      <td>20420</td>\n      <td>20420</td>\n      <td>20420</td>\n      <td>20420</td>\n      <td>20420</td>\n    </tr>\n    <tr>\n      <th>12</th>\n      <td>18170</td>\n      <td>18170</td>\n      <td>18170</td>\n      <td>18170</td>\n      <td>18170</td>\n      <td>18170</td>\n    </tr>\n    <tr>\n      <th>13</th>\n      <td>12112</td>\n      <td>12112</td>\n      <td>12112</td>\n      <td>12112</td>\n      <td>12112</td>\n      <td>12112</td>\n    </tr>\n    <tr>\n      <th>14</th>\n      <td>12674</td>\n      <td>12674</td>\n      <td>12674</td>\n      <td>12674</td>\n      <td>12674</td>\n      <td>12674</td>\n    </tr>\n    <tr>\n      <th>15</th>\n      <td>20641</td>\n      <td>20641</td>\n      <td>20641</td>\n      <td>20641</td>\n      <td>20641</td>\n      <td>20641</td>\n    </tr>\n    <tr>\n      <th>16</th>\n      <td>17717</td>\n      <td>17717</td>\n      <td>17717</td>\n      <td>17717</td>\n      <td>17717</td>\n      <td>17717</td>\n    </tr>\n    <tr>\n      <th>17</th>\n      <td>20973</td>\n      <td>20973</td>\n      <td>20973</td>\n      <td>20973</td>\n      <td>20973</td>\n      <td>20973</td>\n    </tr>\n    <tr>\n      <th>18</th>\n      <td>18074</td>\n      <td>18074</td>\n      <td>18074</td>\n      <td>18074</td>\n      <td>18074</td>\n      <td>18074</td>\n    </tr>\n    <tr>\n      <th>19</th>\n      <td>14602</td>\n      <td>14602</td>\n      <td>14602</td>\n      <td>14602</td>\n      <td>14602</td>\n      <td>14602</td>\n    </tr>\n    <tr>\n      <th>20</th>\n      <td>11017</td>\n      <td>11017</td>\n      <td>11017</td>\n      <td>11017</td>\n      <td>11017</td>\n      <td>11017</td>\n    </tr>\n    <tr>\n      <th>21</th>\n      <td>13162</td>\n      <td>13162</td>\n      <td>13162</td>\n      <td>13162</td>\n      <td>13162</td>\n      <td>13162</td>\n    </tr>\n    <tr>\n      <th>22</th>\n      <td>16975</td>\n      <td>16975</td>\n      <td>16975</td>\n      <td>16975</td>\n      <td>16975</td>\n      <td>16975</td>\n    </tr>\n    <tr>\n      <th>23</th>\n      <td>20346</td>\n      <td>20346</td>\n      <td>20346</td>\n      <td>20346</td>\n      <td>20346</td>\n      <td>20346</td>\n    </tr>\n    <tr>\n      <th>24</th>\n      <td>23352</td>\n      <td>23352</td>\n      <td>23352</td>\n      <td>23352</td>\n      <td>23352</td>\n      <td>23352</td>\n    </tr>\n    <tr>\n      <th>25</th>\n      <td>25095</td>\n      <td>25095</td>\n      <td>25095</td>\n      <td>25095</td>\n      <td>25095</td>\n      <td>25095</td>\n    </tr>\n    <tr>\n      <th>26</th>\n      <td>24925</td>\n      <td>24925</td>\n      <td>24925</td>\n      <td>24925</td>\n      <td>24925</td>\n      <td>24925</td>\n    </tr>\n    <tr>\n      <th>27</th>\n      <td>14677</td>\n      <td>14677</td>\n      <td>14677</td>\n      <td>14677</td>\n      <td>14677</td>\n      <td>14677</td>\n    </tr>\n    <tr>\n      <th>28</th>\n      <td>15475</td>\n      <td>15475</td>\n      <td>15475</td>\n      <td>15475</td>\n      <td>15475</td>\n      <td>15475</td>\n    </tr>\n    <tr>\n      <th>29</th>\n      <td>22835</td>\n      <td>22835</td>\n      <td>22835</td>\n      <td>22835</td>\n      <td>22835</td>\n      <td>22835</td>\n    </tr>\n    <tr>\n      <th>30</th>\n      <td>36251</td>\n      <td>36251</td>\n      <td>36251</td>\n      <td>36251</td>\n      <td>36251</td>\n      <td>36251</td>\n    </tr>\n    <tr>\n      <th>...</th>\n      <th>...</th>\n      <td>...</td>\n      <td>...</td>\n      <td>...</td>\n      <td>...</td>\n      <td>...</td>\n      <td>...</td>\n    </tr>\n    <tr>\n      <th rowspan=\"30\" valign=\"top\">9</th>\n      <th>1</th>\n      <td>19961</td>\n      <td>19961</td>\n      <td>19961</td>\n      <td>19961</td>\n      <td>19961</td>\n      <td>19961</td>\n    </tr>\n    <tr>\n      <th>2</th>\n      <td>28831</td>\n      <td>28831</td>\n      <td>28831</td>\n      <td>28831</td>\n      <td>28831</td>\n      <td>28831</td>\n    </tr>\n    <tr>\n      <th>3</th>\n      <td>32631</td>\n      <td>32631</td>\n      <td>32631</td>\n      <td>32631</td>\n      <td>32631</td>\n      <td>32631</td>\n    </tr>\n    <tr>\n      <th>4</th>\n      <td>38360</td>\n      <td>38360</td>\n      <td>38360</td>\n      <td>38360</td>\n      <td>38360</td>\n      <td>38360</td>\n    </tr>\n    <tr>\n      <th>5</th>\n      <td>42319</td>\n      <td>42319</td>\n      <td>42319</td>\n      <td>42319</td>\n      <td>42319</td>\n      <td>42319</td>\n    </tr>\n    <tr>\n      <th>6</th>\n      <td>40520</td>\n      <td>40520</td>\n      <td>40520</td>\n      <td>40520</td>\n      <td>40520</td>\n      <td>40520</td>\n    </tr>\n    <tr>\n      <th>7</th>\n      <td>30134</td>\n      <td>30134</td>\n      <td>30134</td>\n      <td>30134</td>\n      <td>30134</td>\n      <td>30134</td>\n    </tr>\n    <tr>\n      <th>8</th>\n      <td>30360</td>\n      <td>30360</td>\n      <td>30360</td>\n      <td>30360</td>\n      <td>30360</td>\n      <td>30360</td>\n    </tr>\n    <tr>\n      <th>9</th>\n      <td>34560</td>\n      <td>34560</td>\n      <td>34560</td>\n      <td>34560</td>\n      <td>34560</td>\n      <td>34560</td>\n    </tr>\n    <tr>\n      <th>10</th>\n      <td>35910</td>\n      <td>35910</td>\n      <td>35910</td>\n      <td>35910</td>\n      <td>35910</td>\n      <td>35910</td>\n    </tr>\n    <tr>\n      <th>11</th>\n      <td>36439</td>\n      <td>36439</td>\n      <td>36439</td>\n      <td>36439</td>\n      <td>36439</td>\n      <td>36439</td>\n    </tr>\n    <tr>\n      <th>12</th>\n      <td>39540</td>\n      <td>39540</td>\n      <td>39540</td>\n      <td>39540</td>\n      <td>39540</td>\n      <td>39540</td>\n    </tr>\n    <tr>\n      <th>13</th>\n      <td>43205</td>\n      <td>43205</td>\n      <td>43205</td>\n      <td>43205</td>\n      <td>43205</td>\n      <td>43205</td>\n    </tr>\n    <tr>\n      <th>14</th>\n      <td>28122</td>\n      <td>28122</td>\n      <td>28122</td>\n      <td>28122</td>\n      <td>28122</td>\n      <td>28122</td>\n    </tr>\n    <tr>\n      <th>15</th>\n      <td>29454</td>\n      <td>29454</td>\n      <td>29454</td>\n      <td>29454</td>\n      <td>29454</td>\n      <td>29454</td>\n    </tr>\n    <tr>\n      <th>16</th>\n      <td>36092</td>\n      <td>36092</td>\n      <td>36092</td>\n      <td>36092</td>\n      <td>36092</td>\n      <td>36092</td>\n    </tr>\n    <tr>\n      <th>17</th>\n      <td>35531</td>\n      <td>35531</td>\n      <td>35531</td>\n      <td>35531</td>\n      <td>35531</td>\n      <td>35531</td>\n    </tr>\n    <tr>\n      <th>18</th>\n      <td>40274</td>\n      <td>40274</td>\n      <td>40274</td>\n      <td>40274</td>\n      <td>40274</td>\n      <td>40274</td>\n    </tr>\n    <tr>\n      <th>19</th>\n      <td>41017</td>\n      <td>41017</td>\n      <td>41017</td>\n      <td>41017</td>\n      <td>41017</td>\n      <td>41017</td>\n    </tr>\n    <tr>\n      <th>20</th>\n      <td>38864</td>\n      <td>38864</td>\n      <td>38864</td>\n      <td>38864</td>\n      <td>38864</td>\n      <td>38864</td>\n    </tr>\n    <tr>\n      <th>21</th>\n      <td>28620</td>\n      <td>28620</td>\n      <td>28620</td>\n      <td>28620</td>\n      <td>28620</td>\n      <td>28620</td>\n    </tr>\n    <tr>\n      <th>22</th>\n      <td>28312</td>\n      <td>28312</td>\n      <td>28312</td>\n      <td>28312</td>\n      <td>28312</td>\n      <td>28312</td>\n    </tr>\n    <tr>\n      <th>23</th>\n      <td>30316</td>\n      <td>30316</td>\n      <td>30316</td>\n      <td>30316</td>\n      <td>30316</td>\n      <td>30316</td>\n    </tr>\n    <tr>\n      <th>24</th>\n      <td>31301</td>\n      <td>31301</td>\n      <td>31301</td>\n      <td>31301</td>\n      <td>31301</td>\n      <td>31301</td>\n    </tr>\n    <tr>\n      <th>25</th>\n      <td>38203</td>\n      <td>38203</td>\n      <td>38203</td>\n      <td>38203</td>\n      <td>38203</td>\n      <td>38203</td>\n    </tr>\n    <tr>\n      <th>26</th>\n      <td>37504</td>\n      <td>37504</td>\n      <td>37504</td>\n      <td>37504</td>\n      <td>37504</td>\n      <td>37504</td>\n    </tr>\n    <tr>\n      <th>27</th>\n      <td>39468</td>\n      <td>39468</td>\n      <td>39468</td>\n      <td>39468</td>\n      <td>39468</td>\n      <td>39468</td>\n    </tr>\n    <tr>\n      <th>28</th>\n      <td>29656</td>\n      <td>29656</td>\n      <td>29656</td>\n      <td>29656</td>\n      <td>29656</td>\n      <td>29656</td>\n    </tr>\n    <tr>\n      <th>29</th>\n      <td>29201</td>\n      <td>29201</td>\n      <td>29201</td>\n      <td>29201</td>\n      <td>29201</td>\n      <td>29201</td>\n    </tr>\n    <tr>\n      <th>30</th>\n      <td>33431</td>\n      <td>33431</td>\n      <td>33431</td>\n      <td>33431</td>\n      <td>33431</td>\n      <td>33431</td>\n    </tr>\n  </tbody>\n</table>\n<p>183 rows × 6 columns</p>\n</div>"
     },
     "metadata": {},
     "execution_count": 93
    }
   ],
   "source": [
    "#Group by Day-Month (Ammount of rides a day)\n",
    "uber_14.groupby([(uber_14['Month']), (uber_14['Day'])]).count()\n"
   ]
  },
  {
   "cell_type": "code",
   "execution_count": 5,
   "metadata": {},
   "outputs": [
    {
     "output_type": "execute_result",
     "data": {
      "text/plain": "24777"
     },
     "metadata": {},
     "execution_count": 5
    }
   ],
   "source": [
    "#Average ride per day\n",
    "\n",
    "avg_rides_per_day = uber_14.shape[0] / uber_14.groupby([(uber_14['Month']), (uber_14['Day'])]).size().shape[0]\n",
    "avg_rides_per_day\n",
    "\n",
    "\n",
    "# (Number of rides|Rows)\n",
    "# uber_14.shape[0]  \n",
    "\n",
    "# Number of Days\n",
    "# uber_14.groupby([(uber_14['Month']), (uber_14['Day'])]).size().shape[0]\n"
   ]
  },
  {
   "cell_type": "code",
   "execution_count": 6,
   "metadata": {},
   "outputs": [
    {
     "output_type": "execute_result",
     "data": {
      "text/plain": "107960"
     },
     "metadata": {},
     "execution_count": 6
    }
   ],
   "source": [
    "#Average ride per week\n",
    "\n",
    "avg_rides_per_day = uber_14.shape[0] / uber_14.groupby([(uber_14['Month']), (uber_14['Week'])]).size().shape[0]\n",
    "avg_rides_per_day\n",
    "\n",
    "\n",
    "# (Number of rides|Rows)\n",
    "# uber_14.shape[0]  \n",
    "\n",
    "# Number of Days\n",
    "# uber_14.groupby([(uber_14['Month']), (uber_14['Day'])]).size().shape[0]"
   ]
  },
  {
   "cell_type": "code",
   "execution_count": 4,
   "metadata": {},
   "outputs": [],
   "source": [
    "# Exploratory Data analysis\n",
    "\n",
    "# Uber pickups divided by Base\n",
    "# Uber pickups divided by day of week\n",
    "# Uber pickups divided by hour of day\n",
    "# Average rides per day | average ride per week\n",
    "\n",
    "# Mark the pickups on a map\n",
    "# Most frequent locations on HeatMap (Technique by tomas)\n",
    "\n",
    "# Number of Uber pickups over time (Over the several days of the 6 months)\n",
    "\n",
    "# Do Regression of the number of pickups over time\n",
    "\n",
    "# Make sth with FOil file.. need to discuss what"
   ]
  },
  {
   "cell_type": "code",
   "execution_count": null,
   "metadata": {},
   "outputs": [],
   "source": [
    "# Pega nos ficheiros dos taxis|TLCs e comparar com Uber might be intersting.. Need help here"
   ]
  },
  {
   "cell_type": "code",
   "execution_count": null,
   "metadata": {},
   "outputs": [],
   "source": [
    "# Serie Temporal e|ou Clustering ?!? "
   ]
  }
 ],
 "metadata": {
  "language_info": {
   "codemirror_mode": {
    "name": "ipython",
    "version": 2
   },
   "file_extension": ".py",
   "mimetype": "text/x-python",
   "name": "python",
   "nbconvert_exporter": "python",
   "pygments_lexer": "ipython2",
   "version": "2.7.17-final"
  },
  "orig_nbformat": 2,
  "kernelspec": {
   "name": "python271564bit7633e381f4654e1eb274972c055d55e0",
   "display_name": "Python 2.7.15 64-bit"
  }
 },
 "nbformat": 4,
 "nbformat_minor": 2
}